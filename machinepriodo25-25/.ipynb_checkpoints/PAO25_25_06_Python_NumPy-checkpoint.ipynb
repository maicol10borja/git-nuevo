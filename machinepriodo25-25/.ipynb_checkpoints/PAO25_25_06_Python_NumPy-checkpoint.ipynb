{
 "cells": [
  {
   "cell_type": "markdown",
   "metadata": {
    "slideshow": {
     "slide_type": "slide"
    }
   },
   "source": [
    "<img src=\"img/Recurso-26.png\" width=\"200\">\n",
    "\n",
    "## PAO25-25- NumPy\n",
    "\n",
    "![logo](img/python_logo.png)\n",
    "\n",
    "*Elvis Pachacama*"
   ]
  },
  {
   "cell_type": "markdown",
   "metadata": {
    "slideshow": {
     "slide_type": "slide"
    }
   },
   "source": [
    "# NumPy ndarray\n",
    "- NumPy (__Num__ erical __Py__ thon) es la de facto librería estándar para análisis numérico en Python\n",
    "- Estructura de datos multidimensional eficiente (escrita en C): ndarray\n",
    "- Colección de funciones para álgebra lineal, estadística descriptiva\n",
    "- Ayuda al procesamiento de datos (np.where)"
   ]
  },
  {
   "cell_type": "code",
   "execution_count": 1,
   "metadata": {
    "tags": []
   },
   "outputs": [],
   "source": [
    "#importar libreria\n",
    "import numpy as np"
   ]
  },
  {
   "cell_type": "markdown",
   "metadata": {},
   "source": [
    "## Performance Sample, NumPy vs Plain Python"
   ]
  },
  {
   "cell_type": "code",
   "execution_count": null,
   "metadata": {
    "tags": []
   },
   "outputs": [],
   "source": [
    "my_list = list(range(10000000)) # Utilizando Listas Python\n",
    "%time my_list = [x * 2 for x in my_list]"
   ]
  },
  {
   "cell_type": "code",
   "execution_count": null,
   "metadata": {
    "tags": []
   },
   "outputs": [],
   "source": [
    "my_arr = np.arange(10000000)  # Utilizando NumPy Arrays\n",
    "%time my_arr2 = my_arr * 2"
   ]
  },
  {
   "cell_type": "markdown",
   "metadata": {
    "slideshow": {
     "slide_type": "subslide"
    }
   },
   "source": [
    "## Formas de crear ndarrays"
   ]
  },
  {
   "cell_type": "code",
   "execution_count": null,
   "metadata": {
    "tags": []
   },
   "outputs": [],
   "source": [
    "array = np.array([ [2,71,0,34], [2,171,-35,34] ]) # 2D\n",
    "print(array)"
   ]
  },
  {
   "cell_type": "code",
   "execution_count": null,
   "metadata": {
    "slideshow": {
     "slide_type": "fragment"
    },
    "tags": []
   },
   "outputs": [],
   "source": [
    "shopping_list = [ ['onions', 'carrots', 'celery'], ['apples', 'oranges', 'grapes'] ] # 2D\n",
    "array = np.array(shopping_list) # convertir una lista en una ndarray\n",
    "print(array)\n",
    "print(type(array))"
   ]
  },
  {
   "cell_type": "code",
   "execution_count": null,
   "metadata": {
    "slideshow": {
     "slide_type": "fragment"
    },
    "tags": []
   },
   "outputs": [],
   "source": [
    "print(np.array([100,10,1])) # array a partir de una lista\n",
    "print(np.arange(2,10,2.1))    # array a partir de una secuencia(range) 1D"
   ]
  },
  {
   "cell_type": "code",
   "execution_count": null,
   "metadata": {
    "slideshow": {
     "slide_type": "fragment"
    },
    "tags": []
   },
   "outputs": [],
   "source": [
    "# Generar arrays con valores fijos\n",
    "print(np.zeros(2))       # 1D\n",
    "print(np.ones((4,3)))    # matrix 2x2\n",
    "print(np.empty((2,2,2))) # matrix 2x2x2, no inicializados\n",
    "print(np.full((5,2),2)) # matrix 5x2\n",
    "print(np.eye(3))         # matrix identity"
   ]
  },
  {
   "cell_type": "markdown",
   "metadata": {
    "slideshow": {
     "slide_type": "subslide"
    }
   },
   "source": [
    "## Obtener información sobre ndarray"
   ]
  },
  {
   "cell_type": "code",
   "execution_count": null,
   "metadata": {
    "tags": []
   },
   "outputs": [],
   "source": [
    "my_ndarray = np.array([2,71,0,34])\n",
    "print(my_ndarray)"
   ]
  },
  {
   "cell_type": "code",
   "execution_count": null,
   "metadata": {
    "scrolled": true,
    "slideshow": {
     "slide_type": "fragment"
    },
    "tags": []
   },
   "outputs": [],
   "source": [
    "print(my_ndarray.argmax())    # índice del valor más alto\n",
    "print(np.amax(my_ndarray))\n",
    "\n",
    "print(my_ndarray.argmin())    # índice del valor más bajo\n",
    "print(np.amin(my_ndarray))\n",
    "\n",
    "print(my_ndarray.nonzero())   # retorna los índices de los elementos distintos a 0"
   ]
  },
  {
   "cell_type": "code",
   "execution_count": null,
   "metadata": {
    "tags": []
   },
   "outputs": [],
   "source": [
    "my_ndarray = np.full((5, 4,2), 2) # matrix 5x2x2\n",
    "print(my_ndarray)\n",
    "\n",
    "print(my_ndarray.size)        # número de elementos\n",
    "print(my_ndarray.shape)       # dimensiones\n",
    "print(my_ndarray.ndim)        # número de dimensiones"
   ]
  },
  {
   "cell_type": "code",
   "execution_count": null,
   "metadata": {},
   "outputs": [],
   "source": [
    "my_ndarray = np.array([2,71,0,34])\n",
    "\n",
    "print(my_ndarray.size)        # número de elementos\n",
    "print(my_ndarray.shape)       # dimensiones\n",
    "print(my_ndarray.ndim)        # número de dimensiones"
   ]
  },
  {
   "cell_type": "markdown",
   "metadata": {
    "slideshow": {
     "slide_type": "subslide"
    }
   },
   "source": [
    "#### Redimensionar los datos"
   ]
  },
  {
   "cell_type": "code",
   "execution_count": null,
   "metadata": {
    "tags": []
   },
   "outputs": [],
   "source": [
    "my_ndarray = np.array([[0, 71, 21, 19, 213, 412, 111, 98]])  # matrix 1x8\n",
    "print(my_ndarray)\n",
    "print(my_ndarray.shape)\n",
    "print(my_ndarray.ndim)"
   ]
  },
  {
   "cell_type": "code",
   "execution_count": null,
   "metadata": {
    "tags": []
   },
   "outputs": [],
   "source": [
    "new_dims = my_ndarray.reshape(2, 4)  # cambiar las dimensiones a 2x4\n",
    "print(new_dims)\n",
    "print(new_dims.ndim)"
   ]
  },
  {
   "cell_type": "code",
   "execution_count": null,
   "metadata": {
    "tags": []
   },
   "outputs": [],
   "source": [
    "new_dims = my_ndarray.reshape(4, 2)  # cambiar las dimensiones a 4x2\n",
    "print(new_dims)\n",
    "print(new_dims.ndim)"
   ]
  },
  {
   "cell_type": "code",
   "execution_count": null,
   "metadata": {
    "tags": []
   },
   "outputs": [],
   "source": [
    "x = np.array([100, 10, 1]).reshape(3,1)\n",
    "print(x.shape)\n",
    "print(x)"
   ]
  },
  {
   "cell_type": "code",
   "execution_count": null,
   "metadata": {
    "slideshow": {
     "slide_type": "fragment"
    },
    "tags": []
   },
   "outputs": [],
   "source": [
    "# reducir a 1D\n",
    "new_dims = np.arange(9).reshape(3,3)\n",
    "print(new_dims)\n",
    "print(new_dims.flatten())"
   ]
  },
  {
   "cell_type": "code",
   "execution_count": null,
   "metadata": {
    "tags": []
   },
   "outputs": [],
   "source": [
    "# reducir\n",
    "new_dims = np.arange(16).reshape(4,4)\n",
    "print(new_dims)\n",
    "print(new_dims.reshape(2,-1))    # el segundo valor se infiere del primero"
   ]
  },
  {
   "cell_type": "markdown",
   "metadata": {
    "slideshow": {
     "slide_type": "subslide"
    }
   },
   "source": [
    "## Manipulación de ndarrays"
   ]
  },
  {
   "cell_type": "code",
   "execution_count": null,
   "metadata": {
    "slideshow": {
     "slide_type": "fragment"
    },
    "tags": []
   },
   "outputs": [],
   "source": [
    "# Cambiar ejes\n",
    "new_dims = np.arange(16).reshape(8,2)\n",
    "print(new_dims)\n",
    "print(new_dims.swapaxes(0,1))"
   ]
  },
  {
   "cell_type": "code",
   "execution_count": null,
   "metadata": {
    "slideshow": {
     "slide_type": "fragment"
    },
    "tags": []
   },
   "outputs": [],
   "source": [
    "# Flip\n",
    "new_dims = np.arange(16).reshape(4,4)\n",
    "print(new_dims)\n",
    "print(np.flip(new_dims, axis = None))"
   ]
  },
  {
   "cell_type": "code",
   "execution_count": null,
   "metadata": {
    "slideshow": {
     "slide_type": "fragment"
    },
    "tags": []
   },
   "outputs": [],
   "source": [
    "# ordenar\n",
    "array1 = np.array([10,2,9,17])\n",
    "array1.sort()\n",
    "print(array1)"
   ]
  },
  {
   "cell_type": "code",
   "execution_count": null,
   "metadata": {
    "slideshow": {
     "slide_type": "fragment"
    },
    "tags": []
   },
   "outputs": [],
   "source": [
    "# Juntar dos arrays\n",
    "a1 = [0,0,0,0,0,0]\n",
    "a2 = [1,1,1,1,1,1]\n",
    "\n",
    "print(np.hstack((a1,a2))) # una al lado de la otra\n",
    "print(np.hstack((a1,a2)).shape)\n",
    "\n",
    "print(np.vstack((a1,a2))) # una encima de la otra\n",
    "print(np.vstack((a1,a2)).shape)"
   ]
  },
  {
   "cell_type": "code",
   "execution_count": null,
   "metadata": {},
   "outputs": [],
   "source": [
    "array1 = np.array([[2, 4], [6, 8]]) \n",
    "array2 = np.array([[3, 5], [7, 9]])\n",
    "  \n",
    "print(np.concatenate((array1, array2), axis = 0))"
   ]
  },
  {
   "cell_type": "code",
   "execution_count": null,
   "metadata": {
    "slideshow": {
     "slide_type": "fragment"
    },
    "tags": []
   },
   "outputs": [],
   "source": [
    "# dividir un array\n",
    "array = np.arange(16).reshape(4,4)\n",
    "print(array)\n",
    "print(np.array_split(array, 2, axis = 0)) # divide array en 2 partes iguales\n",
    "print(np.array_split(array, 3)) # divide array en 3 partes \"iguales\""
   ]
  },
  {
   "cell_type": "code",
   "execution_count": null,
   "metadata": {
    "scrolled": true,
    "slideshow": {
     "slide_type": "fragment"
    },
    "tags": []
   },
   "outputs": [],
   "source": [
    "# dividir un array\n",
    "array = np.arange(16).reshape(4,4)\n",
    "print(array)\n",
    "print(np.array_split(array, [3], axis = 1)) # divide array, por la fila 3"
   ]
  },
  {
   "cell_type": "code",
   "execution_count": null,
   "metadata": {},
   "outputs": [],
   "source": [
    "split = np.array_split(array, [3], axis = 1)\n",
    "print(split[0][3][0])"
   ]
  },
  {
   "cell_type": "code",
   "execution_count": null,
   "metadata": {
    "slideshow": {
     "slide_type": "fragment"
    },
    "tags": []
   },
   "outputs": [],
   "source": [
    "array = np.arange(64).reshape(8,8)\n",
    "print(array)\n",
    "print(np.array_split(array, [1, 3], axis = 0))  # divide array por la fila 1 y 3\n",
    "\n",
    "print(np.array_split(array, [1, 3], axis = 1))  # divide array por la columna 1 y 3\n",
    "# axis = n_dimensions - 1"
   ]
  },
  {
   "cell_type": "markdown",
   "metadata": {
    "slideshow": {
     "slide_type": "slide"
    }
   },
   "source": [
    "# Índices y slicing\n",
    "- De manera análoga a índices y slicing para listas"
   ]
  },
  {
   "cell_type": "code",
   "execution_count": 4,
   "metadata": {
    "slideshow": {
     "slide_type": "fragment"
    },
    "tags": []
   },
   "outputs": [
    {
     "name": "stdout",
     "output_type": "stream",
     "text": [
      "[10 11 12 13 14 15]\n",
      "15\n",
      "[10 11 12 13 14]\n"
     ]
    }
   ],
   "source": [
    "array = np.arange(10, 16)\n",
    "print(array)\n",
    "print(array[-1])    # acceso unidimensional\n",
    "print(array[:-1])  # slice"
   ]
  },
  {
   "cell_type": "code",
   "execution_count": 7,
   "metadata": {
    "slideshow": {
     "slide_type": "fragment"
    },
    "tags": []
   },
   "outputs": [
    {
     "name": "stdout",
     "output_type": "stream",
     "text": [
      "[[ 0  1  2  3]\n",
      " [ 4  5  6  7]\n",
      " [ 8  9 10 11]\n",
      " [12 13 14 15]]\n",
      "10\n",
      "14\n"
     ]
    }
   ],
   "source": [
    "# bidimensional\n",
    "array = np.arange(16).reshape(4,4)\n",
    "print(array)\n",
    "print(array[2, 2]) # fila, columna\n",
    "print(array[3][2]) # fila, columna"
   ]
  },
  {
   "cell_type": "code",
   "execution_count": 10,
   "metadata": {
    "slideshow": {
     "slide_type": "fragment"
    },
    "tags": []
   },
   "outputs": [
    {
     "name": "stdout",
     "output_type": "stream",
     "text": [
      "[[[ 0  1  2  3  4  5]\n",
      "  [ 6  7  8  9 10 11]\n",
      "  [12 13 14 15 16 17]]\n",
      "\n",
      " [[18 19 20 21 22 23]\n",
      "  [24 25 26 27 28 29]\n",
      "  [30 31 32 33 34 35]]]\n",
      "16\n",
      "34\n"
     ]
    }
   ],
   "source": [
    "# multidimensional\n",
    "array = np.arange(36).reshape(2,3,6)\n",
    "print(array)\n",
    "print(array[0,2,4])\n",
    "print(array[1][2][4])"
   ]
  },
  {
   "cell_type": "markdown",
   "metadata": {
    "slideshow": {
     "slide_type": "subslide"
    }
   },
   "source": [
    "#### NumPy es row major"
   ]
  },
  {
   "cell_type": "code",
   "execution_count": 13,
   "metadata": {
    "tags": []
   },
   "outputs": [
    {
     "name": "stdout",
     "output_type": "stream",
     "text": [
      "[[1 2 3]\n",
      " [4 5 6]]\n"
     ]
    }
   ],
   "source": [
    "row_major = np.array([1, 2, 3, 4, 5, 6])\n",
    "row_major = row_major.reshape(2,3)  # by default, row major\n",
    "print(row_major)"
   ]
  },
  {
   "cell_type": "code",
   "execution_count": 15,
   "metadata": {
    "slideshow": {
     "slide_type": "fragment"
    },
    "tags": []
   },
   "outputs": [
    {
     "name": "stdout",
     "output_type": "stream",
     "text": [
      "[[1 2 3]\n",
      " [4 5 6]]\n",
      "[[1 3 5]\n",
      " [2 4 6]]\n"
     ]
    }
   ],
   "source": [
    "row_major = np.array([1, 2, 3, 4, 5, 6])\n",
    "row_major = row_major.reshape(2,3,order='C')  # by default, row major\n",
    "print(row_major)\n",
    "\n",
    "col_major = np.array([1, 2, 3, 4, 5, 6])\n",
    "col_major = col_major.reshape(2,3,order='F')  # col major\n",
    "print(col_major)"
   ]
  },
  {
   "cell_type": "markdown",
   "metadata": {
    "slideshow": {
     "slide_type": "subslide"
    }
   },
   "source": [
    "#### Slice"
   ]
  },
  {
   "cell_type": "code",
   "execution_count": null,
   "metadata": {
    "slideshow": {
     "slide_type": "fragment"
    },
    "tags": []
   },
   "outputs": [],
   "source": [
    "# se puede hacer slice por fila o columna\n",
    "array = np.arange(81).reshape(9,9)\n",
    "print(array)\n",
    "print(array[1:3, 2::2])"
   ]
  },
  {
   "cell_type": "code",
   "execution_count": null,
   "metadata": {
    "slideshow": {
     "slide_type": "fragment"
    },
    "tags": []
   },
   "outputs": [],
   "source": [
    "# se puede hacer slice por fila o columna\n",
    "array = np.arange(9).reshape(3,3)\n",
    "print(array)\n",
    "print(array[0,:])"
   ]
  },
  {
   "cell_type": "markdown",
   "metadata": {
    "slideshow": {
     "slide_type": "subslide"
    }
   },
   "source": [
    "#### Diferencias entre índices y slicing en listas y ndarrays:\n",
    "- ¡Retornan una referencia, no una copia!"
   ]
  },
  {
   "cell_type": "code",
   "execution_count": null,
   "metadata": {
    "slideshow": {
     "slide_type": "fragment"
    },
    "tags": []
   },
   "outputs": [],
   "source": [
    "# uso de slice en listas, retorna copia\n",
    "lista = [0,1,2,3,4,5,6,7,8,9]\n",
    "my_copy = lista[0:2]  # devuelve una copia\n",
    "print(my_copy)\n",
    "my_copy[0] = 222\n",
    "print(lista)\n",
    "print(my_copy)"
   ]
  },
  {
   "cell_type": "code",
   "execution_count": null,
   "metadata": {
    "slideshow": {
     "slide_type": "fragment"
    },
    "tags": []
   },
   "outputs": [],
   "source": [
    "# slicing retorna una referencia en ndarrays\n",
    "array = np.arange(10)\n",
    "my_copy = array[2:5]  # devuelve una referencia\n",
    "print(array)\n",
    "print(my_copy)\n",
    "my_copy[0] = 222\n",
    "print(array)\n",
    "print(my_copy)"
   ]
  },
  {
   "cell_type": "code",
   "execution_count": null,
   "metadata": {
    "slideshow": {
     "slide_type": "fragment"
    },
    "tags": []
   },
   "outputs": [],
   "source": [
    "# copiar ndarrays\n",
    "array = np.arange(10)\n",
    "my_copy = array[2:5].copy()  # hay que hacer la copia explicitamente\n",
    "my_copy[0] = 222\n",
    "print(array)\n",
    "print(my_copy)"
   ]
  },
  {
   "cell_type": "markdown",
   "metadata": {
    "slideshow": {
     "slide_type": "subslide"
    }
   },
   "source": [
    "- Permite asignar valores a un corte"
   ]
  },
  {
   "cell_type": "code",
   "execution_count": null,
   "metadata": {
    "slideshow": {
     "slide_type": "fragment"
    },
    "tags": []
   },
   "outputs": [],
   "source": [
    "array = np.arange(10)\n",
    "print(array)\n",
    "\n",
    "print(array[0:3])\n",
    "\n",
    "array[0:3] = -1\n",
    "print(array)"
   ]
  },
  {
   "cell_type": "markdown",
   "metadata": {
    "slideshow": {
     "slide_type": "subslide"
    }
   },
   "source": [
    "- Slicing condicionales (mask)"
   ]
  },
  {
   "cell_type": "code",
   "execution_count": null,
   "metadata": {
    "slideshow": {
     "slide_type": "fragment"
    },
    "tags": []
   },
   "outputs": [],
   "source": [
    "# slicing condicional\n",
    "array = np.arange(-3,4)\n",
    "print(array)\n",
    "\n",
    "mask = array %2 == 0\n",
    "print(mask)\n",
    "print(array[mask])\n",
    "\n",
    "print(array[array %2 == 0])\n",
    "\n",
    "array[mask] = 0\n",
    "print(array)"
   ]
  },
  {
   "cell_type": "code",
   "execution_count": null,
   "metadata": {
    "tags": []
   },
   "outputs": [],
   "source": [
    "array = np.arange(-3,4)\n",
    "print(array)\n",
    "\n",
    "array[array < 0] = 0\n",
    "print(array)"
   ]
  },
  {
   "cell_type": "code",
   "execution_count": null,
   "metadata": {
    "tags": []
   },
   "outputs": [],
   "source": [
    "# slicing condicional\n",
    "array = np.arange(-3,4)\n",
    "print(array)\n",
    "\n",
    "mask = array % 2 == 0\n",
    "print(mask)\n",
    "\n",
    "array_par = array[mask]  # devuelve una copia\n",
    "print(array_par)\n",
    "\n",
    "array_par[0] = -10\n",
    "print(array)\n",
    "print(array_par)"
   ]
  },
  {
   "cell_type": "markdown",
   "metadata": {
    "slideshow": {
     "slide_type": "subslide"
    }
   },
   "source": [
    "- Acceso a múltiples valores con listados de índices"
   ]
  },
  {
   "cell_type": "code",
   "execution_count": null,
   "metadata": {
    "slideshow": {
     "slide_type": "fragment"
    },
    "tags": []
   },
   "outputs": [],
   "source": [
    "array = np.arange(0,16).reshape(4,4)\n",
    "print(array)\n",
    "print(array[[1,2]])  #selecting rows\n",
    "print(array[:,[1,2]])   #selecting columns\n",
    "\n",
    "# cross product of indexes\n",
    "print(array[[1,2],:][:,[1,2]])\n",
    "\n",
    "print(array[np.ix_([1,2],[1,2])])  # built in ix_\n",
    "\n",
    "ar = array[[2,3,1]] # slice, copia\n",
    "print(ar)\n",
    "ar[0] = 999\n",
    "print(ar)\n",
    "print(array)"
   ]
  },
  {
   "cell_type": "markdown",
   "metadata": {
    "slideshow": {
     "slide_type": "slide"
    }
   },
   "source": [
    "# Funciones matemáticas\n",
    "- Aplicar operaciones entre escalares y arrays o entre arrays"
   ]
  },
  {
   "cell_type": "code",
   "execution_count": 17,
   "metadata": {
    "slideshow": {
     "slide_type": "fragment"
    },
    "tags": []
   },
   "outputs": [
    {
     "name": "stdout",
     "output_type": "stream",
     "text": [
      "[0, 1, 2, 3, 0, 1, 2, 3, 0, 1, 2, 3]\n",
      "[0, 1, 2, 3, 0, 1, 2, 3, 0, 1, 2, 3, 1]\n"
     ]
    }
   ],
   "source": [
    "# listas y escalares\n",
    "lista = [0,1,2,3]\n",
    "lista *= 3\n",
    "print(lista)\n",
    "\n",
    "lista += [1]\n",
    "print(lista)"
   ]
  },
  {
   "cell_type": "code",
   "execution_count": null,
   "metadata": {
    "slideshow": {
     "slide_type": "fragment"
    }
   },
   "outputs": [],
   "source": [
    "# ndarray hace las operaciones sobre los elementos\n",
    "array = np.ones(4, dtype = np.int8)\n",
    "print(array)\n",
    "array *= 2\n",
    "print(array)\n",
    "\n",
    "array += 10\n",
    "print(array)\n",
    "\n",
    "print(array.dtype)  # check data type of array"
   ]
  },
  {
   "cell_type": "code",
   "execution_count": 25,
   "metadata": {
    "slideshow": {
     "slide_type": "fragment"
    }
   },
   "outputs": [
    {
     "name": "stdout",
     "output_type": "stream",
     "text": [
      "[2. 2. 2. 2.]\n",
      "[1 2 3 4]\n",
      "[3. 4. 5. 6.]\n",
      "[ 1.  0. -1. -2.]\n",
      "[2. 4. 6. 8.]\n",
      "[0.5 1.  1.5 2. ]\n"
     ]
    }
   ],
   "source": [
    "# operaciones entre arrays es como operaciones entre matrices\n",
    "array_1 = np.ones(4) * 2\n",
    "array_2 = np.arange(4) + 1\n",
    "\n",
    "print(array_1)\n",
    "print(array_2)\n",
    "\n",
    "print(array_1 + array_2)\n",
    "print(array_1 - array_2)\n",
    "print(array_1 * array_2)\n",
    "print(array_2 / array_1)"
   ]
  },
  {
   "cell_type": "markdown",
   "metadata": {
    "tags": []
   },
   "source": [
    "## Broadcasting"
   ]
  },
  {
   "cell_type": "markdown",
   "metadata": {
    "slideshow": {
     "slide_type": "fragment"
    }
   },
   "source": [
    "Si las arrays no tienen las mismas dimensiones, se hace broadcast del pequeño al grande -> [broadcasting](https://docs.scipy.org/doc/numpy-1.13.0/user/basics.broadcasting.html)"
   ]
  },
  {
   "cell_type": "markdown",
   "metadata": {
    "slideshow": {
     "slide_type": "subslide"
    }
   },
   "source": [
    "## Operadores unarios y binarios\n",
    "\n",
    "| Tipo | Operación | Descripción |\n",
    "|:---------|:-----|:-----|\n",
    "| Unario | *abs* | Valor absoluto de cada elemento |\n",
    "| | *sqrt* | Raíz cuadrada de cada elemento |\n",
    "| | *exp* | e^x, siendo x cad elemento |\n",
    "| | *log, log10, log2* | Logaritmos en distintas bases de cada elemento |\n",
    "| | *sign* | Retorna el signo de cada elemento (-1 para negativo, 0 o 1 para positivo) |\n",
    "| | *ceil* | Redondea cada elemento por arriba |\n",
    "| | *floor* | Redondea cada elemento por abajo |\n",
    "| | *isnan* | Retorna si cada elemento es Nan |\n",
    "| | *cos, sin, tan* | Operaciones trigonométricas en cada elemento |\n",
    "| | *arccos, arcsin, arctan* | Inversas de operaciones trigonométricas en cada elemento |\n",
    "| Binario | *add* | Suma de dos arrays |\n",
    "| | *substract* | Resta de dos arrays |\n",
    "| | *multiply* | Multiplicación de dos arrays |\n",
    "| | *divide* | División de dos arrays |\n",
    "| | *maximum, minimum* | Retorna el valor máximo/mínimo de cada pareja de elementos |\n",
    "| | *equal, not_equal* | Retorna la comparación (igual o no igual) de cada pareja de elementos |\n",
    "| | *greater, greater_equal, less, less_equal* | Retorna la comparación (>, >=, <, <= respectivamente) de cada pareja de elementos |"
   ]
  },
  {
   "cell_type": "code",
   "execution_count": 27,
   "metadata": {
    "slideshow": {
     "slide_type": "subslide"
    }
   },
   "outputs": [
    {
     "name": "stdout",
     "output_type": "stream",
     "text": [
      "[0 1 2 3 4]\n"
     ]
    },
    {
     "data": {
      "text/plain": [
       "array([0.        , 1.        , 1.41421356, 1.73205081, 2.        ])"
      ]
     },
     "execution_count": 27,
     "metadata": {},
     "output_type": "execute_result"
    }
   ],
   "source": [
    "# ejemplos de operadores\n",
    "array = np.arange(5)\n",
    "print(array)\n",
    "np.sqrt(array)"
   ]
  },
  {
   "cell_type": "code",
   "execution_count": 28,
   "metadata": {
    "slideshow": {
     "slide_type": "fragment"
    },
    "tags": []
   },
   "outputs": [
    {
     "name": "stdout",
     "output_type": "stream",
     "text": [
      "[0 1 2 3]\n",
      "[ 0 -1  2 -3]\n",
      "[False  True False  True]\n",
      "[False  True False  True]\n"
     ]
    }
   ],
   "source": [
    "# ejemplos de operadores\n",
    "array1 = np.arange(4)\n",
    "array2 = np.array([0,-1,2,-3])\n",
    "\n",
    "print(array1)\n",
    "print(array2)\n",
    "\n",
    "print(np.greater(array1,array2))\n",
    "print(np.less(array2, array1))"
   ]
  },
  {
   "cell_type": "markdown",
   "metadata": {
    "slideshow": {
     "slide_type": "slide"
    }
   },
   "source": [
    "# Estadística descriptiva\n",
    "- Importante saber la naturaleza de los datos\n",
    "- Valores máximos, mínimos, distribución, etc.\n",
    "\n",
    "| Función | Descripción |\n",
    "|:---------|:-----|\n",
    "| *sum(arr)* | Suma de todos los elementos de *arr* |\n",
    "| *mean(arr)* | Media aritmética de los elementos de *arr* |\n",
    "| *std(arr)* | Desviación estándar de los elementos de *arr* |\n",
    "| *cumsum(arr)* | Devuelve array con la suma acumulada de cada elementos con todos los anteriores |\n",
    "| *cumprod(arr)* | Devuelve array con el producto acumulado de cada elementos con todos los anteriores |\n",
    "| *min(arr), max(arr)* | Mínimo y máximo de *arr* |\n",
    "| *any(arr)* | En array de tipo *bool*, retorna *True* si algún elemento es *True* |\n",
    "| *all(arr)* | En array de tipo *bool*, retorna *True* si todos los elementos son *True* (o <>0 en valores numéricos) |\n",
    "| *unique(arr)* | Devuelve un array con valores únicos |\n",
    "| *in1d(arr1, arr2)* | Devuelve un array con bool indicando si cada elemento de *arr1* está en *arr2* |\n",
    "| *union1d(arr1, arr2)* | Devuelve la unión de ambos arrays |\n",
    "| *intersect1d(arr1, arr2)* | Devuelve la intersección de ambos arrays |"
   ]
  },
  {
   "cell_type": "code",
   "execution_count": 31,
   "metadata": {
    "slideshow": {
     "slide_type": "subslide"
    },
    "tags": []
   },
   "outputs": [
    {
     "name": "stdout",
     "output_type": "stream",
     "text": [
      "[0 1 2 3 4 5 6 7 8]\n",
      "36\n",
      "[ 0  1  3  6 10 15 21 28 36]\n"
     ]
    }
   ],
   "source": [
    "# sum != cumsum\n",
    "array1 = np.arange(9)\n",
    "print(array1)\n",
    "print(array1.sum())\n",
    "print(array1.cumsum())"
   ]
  },
  {
   "cell_type": "code",
   "execution_count": 34,
   "metadata": {
    "slideshow": {
     "slide_type": "fragment"
    },
    "tags": []
   },
   "outputs": [
    {
     "name": "stdout",
     "output_type": "stream",
     "text": [
      "[[-8 -7 -6 -5 -4]\n",
      " [-3 -2 -1  0  1]]\n",
      "True\n",
      "False\n"
     ]
    }
   ],
   "source": [
    "# any vs all\n",
    "array1 = np.arange(-8,2).reshape(2,5)\n",
    "print(array1)\n",
    "print(array1.any()) # any para saber si hay elementos True o valores <> 0\n",
    "print(array1.all()) # all para saber si TODOS los elementos son True o valores <> 0"
   ]
  },
  {
   "cell_type": "code",
   "execution_count": 38,
   "metadata": {
    "slideshow": {
     "slide_type": "fragment"
    },
    "tags": []
   },
   "outputs": [
    {
     "name": "stdout",
     "output_type": "stream",
     "text": [
      "[[0 1 2 3 4]\n",
      " [5 6 7 8 9]]\n",
      "[False  True  True  True  True]\n",
      "[False  True]\n",
      "False\n"
     ]
    }
   ],
   "source": [
    "# todas las funciones aceptan parametro 'axis' \n",
    "# 0 para columnas, 1 para filas, 2 para profundidad...\n",
    "array1 = np.arange(10).reshape(2,5)\n",
    "print(array1)\n",
    "print(array1.all(axis=0))\n",
    "print(array1.all(axis=1))\n",
    "print(array1.all())"
   ]
  },
  {
   "cell_type": "markdown",
   "metadata": {
    "slideshow": {
     "slide_type": "slide"
    }
   },
   "source": [
    "# Álgebra lineal\n",
    "- numpy.linalg contiene funciones para álgebra lineal\n",
    "- dot product, multiplicación de matrices, cálculo del determinante, factorizaciones..."
   ]
  },
  {
   "cell_type": "markdown",
   "metadata": {
    "slideshow": {
     "slide_type": "fragment"
    }
   },
   "source": [
    "\n",
    "| Función | Descripción |\n",
    "|:---------|:-----|\n",
    "| *dot(mat1, mat2)* | Devuelve el producto escalar entre dos arrays. Si son matrices 2D, es equivalente a la multiplicación de ambas |\n",
    "| *matmul(mat1, mat2)* | Devuelve el producto entre dos matrices |\n",
    "| *trace(mat1, mat2)* | Suma de las diagonales de ambas matrices |\n",
    "| *det(mat)* | Devuelve el determinante de la matriz |\n",
    "| *eig(mat)* | Computa los autovalores y autovectores de la matriz cuadrada *mat* |\n",
    "| *inv(mat)* | Devuelve la inversa de la matriz |\n",
    "| *qr(mat)* | Computa la factorización QR de *mat* |\n",
    "| *solve(A, b)* | Resuelve el sistema lineal de ecuaciones *Ax = b* para *b*, cuando *A* es una matriz cuadrada |\n",
    "| *transpose(mat)* | Devuelve la transpuesta de la matrix |"
   ]
  },
  {
   "cell_type": "code",
   "execution_count": 42,
   "metadata": {
    "slideshow": {
     "slide_type": "subslide"
    },
    "tags": []
   },
   "outputs": [
    {
     "name": "stdout",
     "output_type": "stream",
     "text": [
      "[[ 0  1  2]\n",
      " [ 3  4  5]\n",
      " [ 6  7  8]\n",
      " [ 9 10 11]]\n",
      "[[0 1]\n",
      " [2 3]\n",
      " [4 5]]\n",
      "[[10 13]\n",
      " [28 40]\n",
      " [46 67]\n",
      " [64 94]]\n",
      "[[10 13]\n",
      " [28 40]\n",
      " [46 67]\n",
      " [64 94]]\n",
      "[[10 13]\n",
      " [28 40]\n",
      " [46 67]\n",
      " [64 94]]\n"
     ]
    }
   ],
   "source": [
    "A = np.arange(12).reshape(4,3)\n",
    "B = np.arange(6).reshape(3,2)\n",
    "\n",
    "print(A)\n",
    "print(B)\n",
    "\n",
    "print(np.matmul(A, B))\n",
    "print(np.dot(A, B))\n",
    "print(A @ B)"
   ]
  },
  {
   "cell_type": "code",
   "execution_count": 49,
   "metadata": {
    "slideshow": {
     "slide_type": "fragment"
    },
    "tags": []
   },
   "outputs": [
    {
     "name": "stdout",
     "output_type": "stream",
     "text": [
      "[[ 3  2  5]\n",
      " [ 1 -3 -1]\n",
      " [ 2 -1 12]]\n",
      "[12  2 32]\n",
      "x=0.7543859649122807 y=-1.2280701754385965 z=2.43859649122807\n",
      "True\n",
      "True\n",
      "True\n"
     ]
    }
   ],
   "source": [
    "import numpy.linalg as lg\n",
    "import math\n",
    "\n",
    "# resolver sistema de ecuaciones\n",
    "# 3x + 2y + 5z = 12\n",
    "# x - 3y -z = 2\n",
    "# 2x -y +12z = 32\n",
    "# Ax = b --> resolver para x\n",
    "\n",
    "a = np.array([ [3,2,5], [1,-3,-1], [2,-1,12] ])\n",
    "b = np.array([12,2,32])\n",
    "\n",
    "print(a)\n",
    "print(b)\n",
    "x,y,z = lg.solve(a,b)\n",
    "print(f'x={x} y={y} z={z}')\n",
    "\n",
    "print(math.isclose(3*x + 2*y +5*z, 12))\n",
    "print(math.isclose(x - 3*y - z, 2))\n",
    "print(math.isclose(2*x -y + 12*z, 32))"
   ]
  },
  {
   "cell_type": "code",
   "execution_count": 53,
   "metadata": {
    "tags": []
   },
   "outputs": [
    {
     "name": "stdout",
     "output_type": "stream",
     "text": [
      "[[1. 0. 0. 0.]\n",
      " [0. 1. 0. 0.]\n",
      " [0. 0. 1. 0.]\n",
      " [0. 0. 0. 1.]]\n",
      "[[ 0  1  2  3]\n",
      " [ 4  5  6  7]\n",
      " [ 8  9 10 11]\n",
      " [12 13 14 15]]\n",
      "[[ 0.  1.  2.  3.]\n",
      " [ 4.  5.  6.  7.]\n",
      " [ 8.  9. 10. 11.]\n",
      " [12. 13. 14. 15.]]\n"
     ]
    }
   ],
   "source": [
    "#matriz identidad\n",
    "I = np.identity(4)\n",
    "print(I)\n",
    "\n",
    "A = np.arange(16).reshape(4,4)\n",
    "print(A)\n",
    "\n",
    "print(np.matmul(A,I))"
   ]
  },
  {
   "cell_type": "markdown",
   "metadata": {
    "slideshow": {
     "slide_type": "slide"
    }
   },
   "source": [
    "# Filtrado de datos\n",
    "- Filtrar y modificar datos numéricos con np.where\n",
    "- Retorna A o B en función de una condición en una array"
   ]
  },
  {
   "cell_type": "code",
   "execution_count": null,
   "metadata": {
    "slideshow": {
     "slide_type": "fragment"
    },
    "tags": []
   },
   "outputs": [],
   "source": [
    "prices = np.array([0.99, 14.49, 19.99, 20.99, 0.49])\n",
    "mask = prices < 1\n",
    "print(prices[prices < 1]) #slicing condicional\n",
    "\n",
    "# mask con los elementos menores de 1\n",
    "# mask = np.where(prices < 1, True, False)\n",
    "# print(mask)\n",
    "# print(prices[mask])\n",
    "\n",
    "# prices[mask] = 1.0\n",
    "# print(prices)\n",
    "\n",
    "print(np.where(prices < 1, 1.0, prices))"
   ]
  },
  {
   "cell_type": "code",
   "execution_count": null,
   "metadata": {
    "slideshow": {
     "slide_type": "subslide"
    },
    "tags": []
   },
   "outputs": [],
   "source": [
    "# Se puede usar para sustituir datos fuera de rango\n",
    "bank_transfers_values = np.array([0.99, -1.49, 19.99, 20.99, -0.49, 12.1]).reshape(2, 3)\n",
    "print(bank_transfers_values)\n",
    "clean_data = np.where(bank_transfers_values > 0, bank_transfers_values, 0)\n",
    "print(clean_data)"
   ]
  },
  {
   "cell_type": "code",
   "execution_count": null,
   "metadata": {
    "slideshow": {
     "slide_type": "fragment"
    },
    "tags": []
   },
   "outputs": [],
   "source": [
    "# limpiar NaN (sustitución)\n",
    "data = [10, 12, -143, np.nan, 1, -3] # np.nan --> NotANumber, elemento especial\n",
    "data_clean = np.where(np.isnan(data), 0, data)\n",
    "print(data_clean)\n",
    "\n",
    "print(id(data))\n",
    "print(id(data_clean))"
   ]
  },
  {
   "cell_type": "code",
   "execution_count": null,
   "metadata": {
    "slideshow": {
     "slide_type": "fragment"
    },
    "tags": []
   },
   "outputs": [],
   "source": [
    "# np.where puede seleccionar elementos\n",
    "bank_transfers_values = np.array([0.99, -1.49, 19.99, 20.99, -0.49, 12.1]).reshape(2, 3)\n",
    "print(bank_transfers_values)\n",
    "credits = np.where(bank_transfers_values > 0) # array de índices para los que la condición es True\n",
    "\n",
    "print(credits)\n",
    "print(bank_transfers_values[credits]) # es igual que bank_transfers_values[bank_transfers_values > 0]\n",
    "print(bank_transfers_values[bank_transfers_values > 0])"
   ]
  },
  {
   "cell_type": "code",
   "execution_count": null,
   "metadata": {
    "slideshow": {
     "slide_type": "fragment"
    },
    "tags": []
   },
   "outputs": [],
   "source": [
    "# valor de array dependiendo del valor en array referencia\n",
    "rewards_default = np.arange(6)\n",
    "print(rewards_default)\n",
    "\n",
    "rewards_upgrade = np.arange(6) * 10\n",
    "print(rewards_upgrade)\n",
    "\n",
    "daily_points = np.array([0, 0, 1, 6, 0, 2])\n",
    "print(daily_points)\n",
    "\n",
    "final_rewards = np.where(daily_points > 1, rewards_upgrade, rewards_default)\n",
    "print(final_rewards)"
   ]
  },
  {
   "cell_type": "markdown",
   "metadata": {
    "slideshow": {
     "slide_type": "slide"
    }
   },
   "source": [
    "# Números aleatorios\n",
    "- Python módulo random"
   ]
  },
  {
   "cell_type": "code",
   "execution_count": 62,
   "metadata": {
    "slideshow": {
     "slide_type": "fragment"
    },
    "tags": []
   },
   "outputs": [
    {
     "name": "stdout",
     "output_type": "stream",
     "text": [
      "0.29584811172815284\n",
      "2\n",
      "0.3562830418495305\n"
     ]
    }
   ],
   "source": [
    "import random\n",
    "\n",
    "print(random.random()) # número entre 0 y 1\n",
    "print(random.randint(0,5)) # integral entre dos valores\n",
    "print(random.uniform(0,5)) # real entre dos valores"
   ]
  },
  {
   "cell_type": "code",
   "execution_count": 68,
   "metadata": {
    "slideshow": {
     "slide_type": "fragment"
    },
    "tags": []
   },
   "outputs": [
    {
     "data": {
      "text/plain": [
       "'Charmander'"
      ]
     },
     "execution_count": 68,
     "metadata": {},
     "output_type": "execute_result"
    }
   ],
   "source": [
    "# elegir un elemento al azar dentro de una colección\n",
    "names = ['Pikachu','Eevee','Charmander']\n",
    "random.choice(names)"
   ]
  },
  {
   "cell_type": "markdown",
   "metadata": {
    "slideshow": {
     "slide_type": "subslide"
    }
   },
   "source": [
    "## NumPy.random\n",
    "- Generar fácilmente listas con valores aleatorios"
   ]
  },
  {
   "cell_type": "code",
   "execution_count": 79,
   "metadata": {
    "slideshow": {
     "slide_type": "fragment"
    }
   },
   "outputs": [
    {
     "name": "stdout",
     "output_type": "stream",
     "text": [
      "0.36081226843950454\n",
      "1\n",
      "[[0 4 1 3]\n",
      " [0 2 2 1]]\n"
     ]
    }
   ],
   "source": [
    "print(np.random.rand()) # número entre 0 y 1\n",
    "print(np.random.randint(0,5)) # integral entre dos valores \n",
    "print(np.random.randint(5, size=(2, 4))) # parametro 'size' para indicar las dimensiones)"
   ]
  },
  {
   "cell_type": "code",
   "execution_count": 87,
   "metadata": {
    "slideshow": {
     "slide_type": "fragment"
    }
   },
   "outputs": [
    {
     "name": "stdout",
     "output_type": "stream",
     "text": [
      "[[ 0.42750222  2.2463382 ]\n",
      " [ 0.01061075  0.26062184]\n",
      " [-0.39817339  0.72351532]\n",
      " [ 1.53254577  0.86071384]]\n"
     ]
    }
   ],
   "source": [
    "# array de elementos aleatorios (distribucion normal gaussiana, media 0, desviación 1)\n",
    "print(np.random.randn(4,2))"
   ]
  },
  {
   "cell_type": "code",
   "execution_count": null,
   "metadata": {
    "slideshow": {
     "slide_type": "fragment"
    }
   },
   "outputs": [],
   "source": [
    "# otras distribuciones\n",
    "print(np.random.binomial(n=5, p=0.3)) # 'n' intentos, 'p' probabilidad\n",
    "print(np.random.uniform(low=0, high=10)) # distribución uniforme\n",
    "print(np.random.poisson(lam=2, size=(2,2))) # 'lam' número de ocurrencias esperadas, retornar 'size' valores"
   ]
  },
  {
   "cell_type": "markdown",
   "metadata": {
    "slideshow": {
     "slide_type": "subslide"
    }
   },
   "source": [
    "## Random seed\n",
    "- Números pseudo-aleatorios\n",
    "- Ordenadores generan números a partir de ecuaciones\n",
    "- Basadas en un número inicial (seed)\n",
    "- Bueno para reproducibilidad de experimentos"
   ]
  },
  {
   "cell_type": "code",
   "execution_count": null,
   "metadata": {
    "slideshow": {
     "slide_type": "fragment"
    },
    "tags": []
   },
   "outputs": [],
   "source": [
    "i = 5\n",
    "for _ in range(5):\n",
    "    np.random.seed(i) # misma semilla\n",
    "    print(np.random.rand())\n",
    "    print(np.random.rand())\n",
    "\n",
    "print()    \n",
    "    \n",
    "for i in range(6):\n",
    "    np.random.seed(i) # diferentes semillas\n",
    "    print(np.random.rand())\n",
    "    print(np.random.rand())"
   ]
  },
  {
   "cell_type": "markdown",
   "metadata": {
    "slideshow": {
     "slide_type": "slide"
    }
   },
   "source": [
    "# Escritura y lectura de ndarrays a archivos \n",
    "- Para futuro acceso\n",
    "- Compartir datos con otros\n",
    "- Formato *.npy"
   ]
  },
  {
   "cell_type": "code",
   "execution_count": null,
   "metadata": {
    "slideshow": {
     "slide_type": "fragment"
    },
    "tags": []
   },
   "outputs": [],
   "source": [
    "# escribir a archivo\n",
    "import os\n",
    "ruta = os.path.join(\"res\" ,\"o_values_array.npy\")\n",
    "\n",
    "values = np.random.randint(9, size=(3,3))\n",
    "np.save(ruta, values)\n",
    "print(values)"
   ]
  },
  {
   "cell_type": "code",
   "execution_count": null,
   "metadata": {
    "slideshow": {
     "slide_type": "fragment"
    }
   },
   "outputs": [],
   "source": [
    "# leer de archivo\n",
    "old_values = np.load(ruta)\n",
    "print(old_values)"
   ]
  },
  {
   "cell_type": "code",
   "execution_count": null,
   "metadata": {
    "slideshow": {
     "slide_type": "subslide"
    }
   },
   "outputs": [],
   "source": [
    "# escribir y cargar múltiples arrays\n",
    "ruta = os.path.join(\"res\" ,\"o_array_group.npz\")\n",
    "\n",
    "values1 = np.random.randint(9,size=(3,3))\n",
    "values2 = np.random.randint(4,size=(2,2))\n",
    "values3 = np.random.randint(16,size=(4,4))\n",
    "np.savez(ruta,values1,values2,values3) # añade la extensión .npz   "
   ]
  },
  {
   "cell_type": "code",
   "execution_count": null,
   "metadata": {
    "slideshow": {
     "slide_type": "fragment"
    }
   },
   "outputs": [],
   "source": [
    "# leer los archivos (retorna un diccionario con las arrays)\n",
    "npzfile = np.load(ruta)\n",
    "\n",
    "print(type(npzfile.files))\n",
    "print(npzfile.files)\n",
    "\n",
    "for key in npzfile.files: # array.files contiene el nombre de las arrays (arr_0, arr_1...)\n",
    "     print(npzfile[key])"
   ]
  },
  {
   "cell_type": "markdown",
   "metadata": {
    "slideshow": {
     "slide_type": "subslide"
    }
   },
   "source": [
    "### ¿Por qué molestarse con .npy?\n",
    "- Bases de datos suelen estar en CSV o txt, que requieren lectura con streams (parsing)\n",
    "- ¿Para qué escribir los datos de nuevo?"
   ]
  },
  {
   "cell_type": "code",
   "execution_count": 93,
   "metadata": {
    "tags": []
   },
   "outputs": [],
   "source": [
    "import os\n",
    "ruta_csv = os.path.join(\"res\" ,\"fdata.csv\")\n",
    "with open(ruta_csv,'r') as f:\n",
    "    data_str = f.read()\n",
    "data = data_str.split(',')\n",
    "data_array = np.array(data, dtype = np.int8).reshape(1000,1000)\n",
    "# print(data_array)\n",
    "\n",
    "ruta_npy = os.path.join(\"res\" ,\"o_fdata.npy\")\n",
    "np.save(ruta_npy, data_array)"
   ]
  },
  {
   "cell_type": "code",
   "execution_count": 94,
   "metadata": {
    "slideshow": {
     "slide_type": "fragment"
    },
    "tags": []
   },
   "outputs": [
    {
     "name": "stdout",
     "output_type": "stream",
     "text": [
      "374 ms ± 59.1 ms per loop (mean ± std. dev. of 7 runs, 1 loop each)\n"
     ]
    }
   ],
   "source": [
    "%%timeit # magic function jupyter\n",
    "with open(ruta_csv,'r') as f:\n",
    "    data_str = f.read()\n",
    "data = data_str.split(',')\n",
    "data_array = np.array(data,  dtype = np.int8).reshape(1000,1000)"
   ]
  },
  {
   "cell_type": "code",
   "execution_count": 91,
   "metadata": {
    "slideshow": {
     "slide_type": "fragment"
    },
    "tags": []
   },
   "outputs": [
    {
     "name": "stdout",
     "output_type": "stream",
     "text": [
      "The slowest run took 14.37 times longer than the fastest. This could mean that an intermediate result is being cached.\n",
      "1.74 ms ± 1.9 ms per loop (mean ± std. dev. of 7 runs, 1,000 loops each)\n"
     ]
    }
   ],
   "source": [
    "%%timeit\n",
    "data = np.load(ruta_npy)"
   ]
  },
  {
   "cell_type": "code",
   "execution_count": 92,
   "metadata": {
    "tags": []
   },
   "outputs": [
    {
     "name": "stdout",
     "output_type": "stream",
     "text": [
      "409 ms ± 59.7 ms per loop (mean ± std. dev. of 7 runs, 1 loop each)\n"
     ]
    }
   ],
   "source": [
    "%%timeit # magic function jupyter\n",
    "result = np.fromfile(ruta_csv, dtype=np.int8, sep=\",\")"
   ]
  },
  {
   "cell_type": "markdown",
   "metadata": {
    "slideshow": {
     "slide_type": "fragment"
    }
   },
   "source": [
    "### velocidad + simplicidad vs memoria"
   ]
  },
  {
   "cell_type": "markdown",
   "metadata": {},
   "source": [
    "## Ejercicios"
   ]
  },
  {
   "cell_type": "markdown",
   "metadata": {},
   "source": [
    "- Ejercicios para practicar NumPy: https://github.com/rougier/numpy-100/blob/master/100_Numpy_exercises.ipynb\n"
   ]
  },
  {
   "cell_type": "code",
   "execution_count": null,
   "metadata": {},
   "outputs": [],
   "source": []
  }
 ],
 "metadata": {
  "celltoolbar": "Slideshow",
  "kernelspec": {
   "display_name": "Python 3 (ipykernel)",
   "language": "python",
   "name": "python3"
  },
  "language_info": {
   "codemirror_mode": {
    "name": "ipython",
    "version": 3
   },
   "file_extension": ".py",
   "mimetype": "text/x-python",
   "name": "python",
   "nbconvert_exporter": "python",
   "pygments_lexer": "ipython3",
   "version": "3.11.13"
  }
 },
 "nbformat": 4,
 "nbformat_minor": 4
}
