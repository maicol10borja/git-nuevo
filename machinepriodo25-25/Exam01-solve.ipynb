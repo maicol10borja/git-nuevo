{
 "cells": [
  {
   "cell_type": "markdown",
   "id": "43115e44-f75d-465a-ad62-9b2be737a6e6",
   "metadata": {},
   "source": [
    "# Examen Primera Convocatoria"
   ]
  },
  {
   "cell_type": "code",
   "execution_count": 1,
   "id": "eb8ba270-b03c-49f8-b092-8de37baa3bfe",
   "metadata": {},
   "outputs": [],
   "source": [
    "# Your imports HERE !!!!\n",
    "import numpy as np\n",
    "import pandas as pd\n",
    "import matplotlib.pyplot as plt"
   ]
  },
  {
   "cell_type": "markdown",
   "id": "2206adbd-c8e0-4665-a20b-bb6a1503d388",
   "metadata": {
    "tags": []
   },
   "source": [
    "## 01 - 1 pt\n",
    "- Dado un array de elementos, escribir una función, que reciba dicho array como parámetro de entrada y devuelva el elemento repetido. Usando plain Python, sin ninguna librería."
   ]
  },
  {
   "cell_type": "code",
   "execution_count": 34,
   "id": "748595ea-d6b6-4f35-a824-ea3631d7e15a",
   "metadata": {},
   "outputs": [
    {
     "name": "stdout",
     "output_type": "stream",
     "text": [
      "3\n"
     ]
    }
   ],
   "source": [
    "array_src = [4, 8, 0, 3, 6, 2, 1, 5, 3, 9, 7]\n",
    "expected_rep_element = 3\n",
    "rep_element = repeated_element(array_src) # This calls your function repeated_element\n",
    "print(rep_element)\n",
    "assert(expected_rep_element == rep_element)  # This will fail if the element is not found correctly"
   ]
  },
  {
   "cell_type": "code",
   "execution_count": 35,
   "id": "3b6d4855-e751-4f45-8382-1291885aef0c",
   "metadata": {},
   "outputs": [],
   "source": [
    "# Your solution HERE !!!!\n",
    "def repeated_element(array_src):\n",
    "    for element in array_src:\n",
    "        if array_src.count(element) > 1: break\n",
    "    return element"
   ]
  },
  {
   "cell_type": "markdown",
   "id": "5161decf-e061-44a9-a413-8d3921a10058",
   "metadata": {
    "tags": []
   },
   "source": [
    "## 02 - 1pt\n",
    "- Genera una matriz con valores aleatorios de 0 a 100 de dimensiones 16x16\n",
    "- Calcula los siguentes estadísticos en la matriz anterior, por fila (el resultado de cada uno debe ser un array de dimensiones 1x16)\n",
    "  - Suma de los elementos de cada fila\n",
    "  - Media de los elementos de cada fila\n",
    "  - Valores mínimos de cada fila\n",
    "  - Valores máximos de cada fila"
   ]
  },
  {
   "cell_type": "code",
   "execution_count": 8,
   "id": "2e7bfe3c-253f-4287-8d85-fb7e5163e6c0",
   "metadata": {},
   "outputs": [
    {
     "name": "stdout",
     "output_type": "stream",
     "text": [
      "Suma: [689 704 776 605 638 718 869 784 801 825 732 860 910 744 761 967]\n",
      "Media: [43.0625 44.     48.5    37.8125 39.875  44.875  54.3125 49.     50.0625\n",
      " 51.5625 45.75   53.75   56.875  46.5    47.5625 60.4375]\n",
      "Mínimo: [ 4  3  7  6  2 11 15  0  2  4  0 10 20  2 10 15]\n",
      "Máximo: [ 93  78  90  99  99  97  85  95  99  93  96  98  99  91  88 100]\n"
     ]
    }
   ],
   "source": [
    "# Your solution HERE !!!!\n",
    "mat = np.random.randint(101, size = (16, 16))\n",
    "suma, media, minimo, maximo = [], [], [], []\n",
    "for element in mat:\n",
    "    suma.append(element.sum())\n",
    "    media.append(element.mean())\n",
    "    minimo.append(element.min())\n",
    "    maximo.append(element.max())\n",
    "    \n",
    "print(f'Suma: {np.array(suma)}') \n",
    "print(f'Media: {np.array(media)}') \n",
    "print(f'Mínimo: {np.array(minimo)}') \n",
    "print(f'Máximo: {np.array(maximo)}') "
   ]
  },
  {
   "cell_type": "markdown",
   "id": "9986c32f-299d-4ce7-809e-db01ee851764",
   "metadata": {
    "tags": []
   },
   "source": [
    "## 03 - 1pt\n",
    "\n",
    "- Generar un dataframe de 3x4 dimensiones con valores númericos aleatorios [0,10]\n",
    "- Darle un índice semántico alfanumérico\n",
    "- Aplicarle una función lambda que obtenga la diferencia entre el máximo y mínimo de cada fila"
   ]
  },
  {
   "cell_type": "code",
   "execution_count": 9,
   "id": "18ff9dbf-9ba4-4513-8a73-d0328b689dc9",
   "metadata": {},
   "outputs": [
    {
     "name": "stdout",
     "output_type": "stream",
     "text": [
      "Solución: [np.int32(5), np.int32(5), np.int32(9)]\n"
     ]
    },
    {
     "data": {
      "text/html": [
       "<div>\n",
       "<style scoped>\n",
       "    .dataframe tbody tr th:only-of-type {\n",
       "        vertical-align: middle;\n",
       "    }\n",
       "\n",
       "    .dataframe tbody tr th {\n",
       "        vertical-align: top;\n",
       "    }\n",
       "\n",
       "    .dataframe thead th {\n",
       "        text-align: right;\n",
       "    }\n",
       "</style>\n",
       "<table border=\"1\" class=\"dataframe\">\n",
       "  <thead>\n",
       "    <tr style=\"text-align: right;\">\n",
       "      <th></th>\n",
       "      <th>A</th>\n",
       "      <th>B</th>\n",
       "      <th>C</th>\n",
       "      <th>D</th>\n",
       "    </tr>\n",
       "  </thead>\n",
       "  <tbody>\n",
       "    <tr>\n",
       "      <th>a</th>\n",
       "      <td>8</td>\n",
       "      <td>8</td>\n",
       "      <td>4</td>\n",
       "      <td>9</td>\n",
       "    </tr>\n",
       "    <tr>\n",
       "      <th>b</th>\n",
       "      <td>7</td>\n",
       "      <td>6</td>\n",
       "      <td>10</td>\n",
       "      <td>5</td>\n",
       "    </tr>\n",
       "    <tr>\n",
       "      <th>c</th>\n",
       "      <td>0</td>\n",
       "      <td>9</td>\n",
       "      <td>8</td>\n",
       "      <td>4</td>\n",
       "    </tr>\n",
       "  </tbody>\n",
       "</table>\n",
       "</div>"
      ],
      "text/plain": [
       "   A  B   C  D\n",
       "a  8  8   4  9\n",
       "b  7  6  10  5\n",
       "c  0  9   8  4"
      ]
     },
     "metadata": {},
     "output_type": "display_data"
    }
   ],
   "source": [
    "# Your solution HERE !!!!\n",
    "df = pd.DataFrame(np.random.randint(11, size = (3, 4)), index = ('a', 'b', 'c'), columns = ('A', 'B', 'C', 'D'))\n",
    "print(f'Solución: {list(map(lambda x: df.loc[x].max() - df.loc[x].min(), df.index))}')\n",
    "display(df)"
   ]
  },
  {
   "cell_type": "markdown",
   "id": "1dc73e21-7283-4cd5-92e8-3a7e1e70fd02",
   "metadata": {
    "tags": []
   },
   "source": [
    "## 04 - 1pt\n",
    "- Crear un array de NumPy de dimensiones 8x5, con números enteros aleatorios en el rango [-100, 100]\n",
    "- Ejecutar en este orden\n",
    "  - Reemplazar valores  \n",
    "    - Reemplazar los valores de todos aquellos números múltiplos de 5 por 100\n",
    "    - Reemplazar los valores de todos aquellos números múltiplos de 3 por Nan\n",
    "   \n",
    "  - Averiguar cuantos elementos tienen Nan por fila\n",
    "  - Reemplazar los valores de Nan por 0"
   ]
  },
  {
   "cell_type": "code",
   "execution_count": 10,
   "id": "2fd83be4-8626-4eaa-9ead-6f951d5ebbfb",
   "metadata": {},
   "outputs": [
    {
     "data": {
      "text/plain": [
       "array([[  8,  58,  95,  33,  89],\n",
       "       [ 53,  93, -25, -84, -34],\n",
       "       [ 42, -89,  35, -54, -26],\n",
       "       [-38,  -1, -87,  49,  -3],\n",
       "       [-47, -28, -42,  12,  20],\n",
       "       [-69, -88,  85, -61,   3],\n",
       "       [ 52, -69, -88, -47,  71],\n",
       "       [-96,  31,  80, -98, -64]], dtype=int32)"
      ]
     },
     "metadata": {},
     "output_type": "display_data"
    }
   ],
   "source": [
    "# Your solution HERE !!!!\n",
    "arr = np.random.randint(-100, 101, size = (8, 5))\n",
    "display(arr)"
   ]
  },
  {
   "cell_type": "code",
   "execution_count": 11,
   "id": "4fbe6e68",
   "metadata": {},
   "outputs": [
    {
     "data": {
      "text/plain": [
       "array([[  8,  58, 100,  33,  89],\n",
       "       [ 53,  93, 100, -84, -34],\n",
       "       [ 42, -89, 100, -54, -26],\n",
       "       [-38,  -1, -87,  49,  -3],\n",
       "       [-47, -28, -42,  12, 100],\n",
       "       [-69, -88, 100, -61,   3],\n",
       "       [ 52, -69, -88, -47,  71],\n",
       "       [-96,  31, 100, -98, -64]], dtype=int32)"
      ]
     },
     "metadata": {},
     "output_type": "display_data"
    }
   ],
   "source": [
    "arr[arr % 5 == 0] = 100\n",
    "display(arr)"
   ]
  },
  {
   "cell_type": "code",
   "execution_count": 12,
   "id": "8bb3a1cd",
   "metadata": {},
   "outputs": [
    {
     "data": {
      "text/html": [
       "<div>\n",
       "<style scoped>\n",
       "    .dataframe tbody tr th:only-of-type {\n",
       "        vertical-align: middle;\n",
       "    }\n",
       "\n",
       "    .dataframe tbody tr th {\n",
       "        vertical-align: top;\n",
       "    }\n",
       "\n",
       "    .dataframe thead th {\n",
       "        text-align: right;\n",
       "    }\n",
       "</style>\n",
       "<table border=\"1\" class=\"dataframe\">\n",
       "  <thead>\n",
       "    <tr style=\"text-align: right;\">\n",
       "      <th></th>\n",
       "      <th>0</th>\n",
       "      <th>1</th>\n",
       "      <th>2</th>\n",
       "      <th>3</th>\n",
       "      <th>4</th>\n",
       "    </tr>\n",
       "  </thead>\n",
       "  <tbody>\n",
       "    <tr>\n",
       "      <th>0</th>\n",
       "      <td>8</td>\n",
       "      <td>58</td>\n",
       "      <td>100</td>\n",
       "      <td>33</td>\n",
       "      <td>89</td>\n",
       "    </tr>\n",
       "    <tr>\n",
       "      <th>1</th>\n",
       "      <td>53</td>\n",
       "      <td>93</td>\n",
       "      <td>100</td>\n",
       "      <td>-84</td>\n",
       "      <td>-34</td>\n",
       "    </tr>\n",
       "    <tr>\n",
       "      <th>2</th>\n",
       "      <td>42</td>\n",
       "      <td>-89</td>\n",
       "      <td>100</td>\n",
       "      <td>-54</td>\n",
       "      <td>-26</td>\n",
       "    </tr>\n",
       "    <tr>\n",
       "      <th>3</th>\n",
       "      <td>-38</td>\n",
       "      <td>-1</td>\n",
       "      <td>-87</td>\n",
       "      <td>49</td>\n",
       "      <td>-3</td>\n",
       "    </tr>\n",
       "    <tr>\n",
       "      <th>4</th>\n",
       "      <td>-47</td>\n",
       "      <td>-28</td>\n",
       "      <td>-42</td>\n",
       "      <td>12</td>\n",
       "      <td>100</td>\n",
       "    </tr>\n",
       "    <tr>\n",
       "      <th>5</th>\n",
       "      <td>-69</td>\n",
       "      <td>-88</td>\n",
       "      <td>100</td>\n",
       "      <td>-61</td>\n",
       "      <td>3</td>\n",
       "    </tr>\n",
       "    <tr>\n",
       "      <th>6</th>\n",
       "      <td>52</td>\n",
       "      <td>-69</td>\n",
       "      <td>-88</td>\n",
       "      <td>-47</td>\n",
       "      <td>71</td>\n",
       "    </tr>\n",
       "    <tr>\n",
       "      <th>7</th>\n",
       "      <td>-96</td>\n",
       "      <td>31</td>\n",
       "      <td>100</td>\n",
       "      <td>-98</td>\n",
       "      <td>-64</td>\n",
       "    </tr>\n",
       "  </tbody>\n",
       "</table>\n",
       "</div>"
      ],
      "text/plain": [
       "    0   1    2   3    4\n",
       "0   8  58  100  33   89\n",
       "1  53  93  100 -84  -34\n",
       "2  42 -89  100 -54  -26\n",
       "3 -38  -1  -87  49   -3\n",
       "4 -47 -28  -42  12  100\n",
       "5 -69 -88  100 -61    3\n",
       "6  52 -69  -88 -47   71\n",
       "7 -96  31  100 -98  -64"
      ]
     },
     "metadata": {},
     "output_type": "display_data"
    }
   ],
   "source": [
    "new_arr = pd.DataFrame(arr)\n",
    "display(new_arr)"
   ]
  },
  {
   "cell_type": "code",
   "execution_count": 13,
   "id": "1d0d746b",
   "metadata": {},
   "outputs": [
    {
     "data": {
      "text/html": [
       "<div>\n",
       "<style scoped>\n",
       "    .dataframe tbody tr th:only-of-type {\n",
       "        vertical-align: middle;\n",
       "    }\n",
       "\n",
       "    .dataframe tbody tr th {\n",
       "        vertical-align: top;\n",
       "    }\n",
       "\n",
       "    .dataframe thead th {\n",
       "        text-align: right;\n",
       "    }\n",
       "</style>\n",
       "<table border=\"1\" class=\"dataframe\">\n",
       "  <thead>\n",
       "    <tr style=\"text-align: right;\">\n",
       "      <th></th>\n",
       "      <th>0</th>\n",
       "      <th>1</th>\n",
       "      <th>2</th>\n",
       "      <th>3</th>\n",
       "      <th>4</th>\n",
       "    </tr>\n",
       "  </thead>\n",
       "  <tbody>\n",
       "    <tr>\n",
       "      <th>0</th>\n",
       "      <td>8.0</td>\n",
       "      <td>58.0</td>\n",
       "      <td>100.0</td>\n",
       "      <td>NaN</td>\n",
       "      <td>89.0</td>\n",
       "    </tr>\n",
       "    <tr>\n",
       "      <th>1</th>\n",
       "      <td>53.0</td>\n",
       "      <td>NaN</td>\n",
       "      <td>100.0</td>\n",
       "      <td>NaN</td>\n",
       "      <td>-34.0</td>\n",
       "    </tr>\n",
       "    <tr>\n",
       "      <th>2</th>\n",
       "      <td>NaN</td>\n",
       "      <td>-89.0</td>\n",
       "      <td>100.0</td>\n",
       "      <td>NaN</td>\n",
       "      <td>-26.0</td>\n",
       "    </tr>\n",
       "    <tr>\n",
       "      <th>3</th>\n",
       "      <td>-38.0</td>\n",
       "      <td>-1.0</td>\n",
       "      <td>NaN</td>\n",
       "      <td>49.0</td>\n",
       "      <td>NaN</td>\n",
       "    </tr>\n",
       "    <tr>\n",
       "      <th>4</th>\n",
       "      <td>-47.0</td>\n",
       "      <td>-28.0</td>\n",
       "      <td>NaN</td>\n",
       "      <td>NaN</td>\n",
       "      <td>100.0</td>\n",
       "    </tr>\n",
       "    <tr>\n",
       "      <th>5</th>\n",
       "      <td>NaN</td>\n",
       "      <td>-88.0</td>\n",
       "      <td>100.0</td>\n",
       "      <td>-61.0</td>\n",
       "      <td>NaN</td>\n",
       "    </tr>\n",
       "    <tr>\n",
       "      <th>6</th>\n",
       "      <td>52.0</td>\n",
       "      <td>NaN</td>\n",
       "      <td>-88.0</td>\n",
       "      <td>-47.0</td>\n",
       "      <td>71.0</td>\n",
       "    </tr>\n",
       "    <tr>\n",
       "      <th>7</th>\n",
       "      <td>NaN</td>\n",
       "      <td>31.0</td>\n",
       "      <td>100.0</td>\n",
       "      <td>-98.0</td>\n",
       "      <td>-64.0</td>\n",
       "    </tr>\n",
       "  </tbody>\n",
       "</table>\n",
       "</div>"
      ],
      "text/plain": [
       "      0     1      2     3      4\n",
       "0   8.0  58.0  100.0   NaN   89.0\n",
       "1  53.0   NaN  100.0   NaN  -34.0\n",
       "2   NaN -89.0  100.0   NaN  -26.0\n",
       "3 -38.0  -1.0    NaN  49.0    NaN\n",
       "4 -47.0 -28.0    NaN   NaN  100.0\n",
       "5   NaN -88.0  100.0 -61.0    NaN\n",
       "6  52.0   NaN  -88.0 -47.0   71.0\n",
       "7   NaN  31.0  100.0 -98.0  -64.0"
      ]
     },
     "metadata": {},
     "output_type": "display_data"
    }
   ],
   "source": [
    "new_arr[new_arr % 3 ==0] = np.nan\n",
    "display(new_arr)"
   ]
  },
  {
   "cell_type": "code",
   "execution_count": 14,
   "id": "efefe869",
   "metadata": {},
   "outputs": [
    {
     "data": {
      "text/plain": [
       "0    3\n",
       "1    2\n",
       "2    2\n",
       "3    4\n",
       "4    2\n",
       "dtype: int64"
      ]
     },
     "execution_count": 14,
     "metadata": {},
     "output_type": "execute_result"
    }
   ],
   "source": [
    "new_arr.isna().sum()"
   ]
  },
  {
   "cell_type": "code",
   "execution_count": 15,
   "id": "bea4629a",
   "metadata": {},
   "outputs": [
    {
     "data": {
      "text/plain": [
       "array([[  8.,  58., 100.,   0.,  89.],\n",
       "       [ 53.,   0., 100.,   0., -34.],\n",
       "       [  0., -89., 100.,   0., -26.],\n",
       "       [-38.,  -1.,   0.,  49.,   0.],\n",
       "       [-47., -28.,   0.,   0., 100.],\n",
       "       [  0., -88., 100., -61.,   0.],\n",
       "       [ 52.,   0., -88., -47.,  71.],\n",
       "       [  0.,  31., 100., -98., -64.]])"
      ]
     },
     "execution_count": 15,
     "metadata": {},
     "output_type": "execute_result"
    }
   ],
   "source": [
    "np.where(np.isnan(new_arr), 0, new_arr)"
   ]
  },
  {
   "cell_type": "markdown",
   "id": "45fe9b96-168d-4bdc-a472-fb41c9031c0d",
   "metadata": {
    "tags": []
   },
   "source": [
    "## 05 - 1pt\n",
    "- Crear una función que reciba una lista de strings y devuelva una serie de pandas, y convierta el primer y último carácter de la palabra de cada elemento de la serie a mayúsculas"
   ]
  },
  {
   "cell_type": "code",
   "execution_count": 33,
   "id": "19fab47f-5fbe-4baa-93af-fc6776d748d1",
   "metadata": {},
   "outputs": [
    {
     "name": "stdout",
     "output_type": "stream",
     "text": [
      "0        PythoN\n",
      "1           PhP\n",
      "2          JavA\n",
      "3    JavascripT\n",
      "4           C++\n",
      "5           SqL\n",
      "dtype: object\n"
     ]
    }
   ],
   "source": [
    "languages = ['python', 'php', 'java', 'javascript', 'c++', 'sql']\n",
    "expected_output = pd.Series(['PythoN', 'PhP', 'JavA', 'JavascripT', 'C++', 'SqL'])\n",
    "output = first_last_uppercase(languages) \n",
    "# This calls your function first_last_uppercase\n",
    "print(output)\n",
    "assert(expected_output.equals(output))  # This will fail if the two lists are different"
   ]
  },
  {
   "cell_type": "code",
   "execution_count": 31,
   "id": "b6b5696b-71fd-4dc4-8536-18eb2d69a8fa",
   "metadata": {},
   "outputs": [],
   "source": [
    "# Your solution HERE !!!!\n",
    "def first_last_uppercase(languages):\n",
    "    return pd.Series(map(lambda language: ''.join([language[0].capitalize(), language[1:-1], language[-1].capitalize()]), languages))\n"
   ]
  },
  {
   "cell_type": "markdown",
   "id": "2b191602-365c-42d3-81af-f877089f0f20",
   "metadata": {
    "tags": []
   },
   "source": [
    "## 06 - 3 pt\n",
    "- Se tienen cuatro datasets, se adjuntan sus datos como diccionarios\n",
    "  - Orders, representa un conjunto de pedidos, con sus fechas, su cantidad, y el cliente y vendedor asociados al mismo\n",
    "  - Customers, conjunto de clientes, con su nombre y su ciudad\n",
    "  - Salesman, conjunto de vendedores, con su nombre, ciudad y porcentaje de comisión por venta\n",
    "  - Cities, conjunto de ciudades con sus nombres\n",
    "- Obtener la siguiente información usando Pandas\n",
    "  - El nombre del vendedor con la mejor venta, y a que cliente ha sido\n",
    "  - Dinero de la comisión otorgada para cada pedido, ordenado por fechas\n",
    "  - Media del dinero de los pedidos de los clientes de Tokyo\n",
    "  - Total del dinero de las comisiones del vendedor Ikuzu Midoriya en el mes de Agosto\n",
    "- Representar graficamente\n",
    "  - Media del total de cada pedido para cada cliente agrupado por ciudad\n",
    "  - Línea temporal del total de los pedidos"
   ]
  },
  {
   "cell_type": "code",
   "execution_count": 19,
   "id": "e14a9877-d29f-49e9-ab82-a8c89dc59081",
   "metadata": {},
   "outputs": [],
   "source": [
    "orders = {'OrderId': [1,2,3,4,5,6], 'OrderDate': ['2021-07-23', '2021-08-06', '2021-07-28', '2021-08-04', '2021-08-03', '2021-07-30'], 'Amount': [1500.5,2000.65,1550.2,1900.75,2205.4, 1208.22], 'CustomerId': [3,4,2,2,1,4], 'SalesmanId': [3,3,2,1,3,2]}\n",
    "customers = {'CustomerId': [1,2,3,4], 'Name': ['Brad Davis', 'Julian Green', 'Geoff Cameron', 'Fabian Johnson'], 'CityId': [2,1,2,3]}\n",
    "salesmans = {'SalesmanId': [1,2,3], 'Name': ['James Knite', 'Reinhardt Wilhelm', 'Ikuzu Midoriya'], 'CityId': [1,3,2], 'Comission': [0.15,0.11,0.09]}\n",
    "cities = {'CityId': [1,2,3], 'Name': ['New York', 'Tokyo', 'Berlin']}"
   ]
  },
  {
   "cell_type": "code",
   "execution_count": 20,
   "id": "95b15246-4019-4073-ae6c-6c32321cb5dd",
   "metadata": {},
   "outputs": [
    {
     "data": {
      "text/html": [
       "<div>\n",
       "<style scoped>\n",
       "    .dataframe tbody tr th:only-of-type {\n",
       "        vertical-align: middle;\n",
       "    }\n",
       "\n",
       "    .dataframe tbody tr th {\n",
       "        vertical-align: top;\n",
       "    }\n",
       "\n",
       "    .dataframe thead th {\n",
       "        text-align: right;\n",
       "    }\n",
       "</style>\n",
       "<table border=\"1\" class=\"dataframe\">\n",
       "  <thead>\n",
       "    <tr style=\"text-align: right;\">\n",
       "      <th></th>\n",
       "      <th>OrderId</th>\n",
       "      <th>OrderDate</th>\n",
       "      <th>Amount</th>\n",
       "      <th>CustomerId</th>\n",
       "      <th>SalesmanId</th>\n",
       "    </tr>\n",
       "  </thead>\n",
       "  <tbody>\n",
       "    <tr>\n",
       "      <th>0</th>\n",
       "      <td>1</td>\n",
       "      <td>2021-07-23</td>\n",
       "      <td>1500.50</td>\n",
       "      <td>3</td>\n",
       "      <td>3</td>\n",
       "    </tr>\n",
       "    <tr>\n",
       "      <th>1</th>\n",
       "      <td>2</td>\n",
       "      <td>2021-08-06</td>\n",
       "      <td>2000.65</td>\n",
       "      <td>4</td>\n",
       "      <td>3</td>\n",
       "    </tr>\n",
       "    <tr>\n",
       "      <th>2</th>\n",
       "      <td>3</td>\n",
       "      <td>2021-07-28</td>\n",
       "      <td>1550.20</td>\n",
       "      <td>2</td>\n",
       "      <td>2</td>\n",
       "    </tr>\n",
       "    <tr>\n",
       "      <th>3</th>\n",
       "      <td>4</td>\n",
       "      <td>2021-08-04</td>\n",
       "      <td>1900.75</td>\n",
       "      <td>2</td>\n",
       "      <td>1</td>\n",
       "    </tr>\n",
       "    <tr>\n",
       "      <th>4</th>\n",
       "      <td>5</td>\n",
       "      <td>2021-08-03</td>\n",
       "      <td>2205.40</td>\n",
       "      <td>1</td>\n",
       "      <td>3</td>\n",
       "    </tr>\n",
       "    <tr>\n",
       "      <th>5</th>\n",
       "      <td>6</td>\n",
       "      <td>2021-07-30</td>\n",
       "      <td>1208.22</td>\n",
       "      <td>4</td>\n",
       "      <td>2</td>\n",
       "    </tr>\n",
       "  </tbody>\n",
       "</table>\n",
       "</div>"
      ],
      "text/plain": [
       "   OrderId   OrderDate   Amount  CustomerId  SalesmanId\n",
       "0        1  2021-07-23  1500.50           3           3\n",
       "1        2  2021-08-06  2000.65           4           3\n",
       "2        3  2021-07-28  1550.20           2           2\n",
       "3        4  2021-08-04  1900.75           2           1\n",
       "4        5  2021-08-03  2205.40           1           3\n",
       "5        6  2021-07-30  1208.22           4           2"
      ]
     },
     "metadata": {},
     "output_type": "display_data"
    }
   ],
   "source": [
    "# Your solution HERE !!!!\n",
    "order_table = pd.DataFrame(orders)\n",
    "display(order_table)"
   ]
  },
  {
   "cell_type": "code",
   "execution_count": 21,
   "id": "0d87fdfe",
   "metadata": {},
   "outputs": [
    {
     "data": {
      "text/html": [
       "<div>\n",
       "<style scoped>\n",
       "    .dataframe tbody tr th:only-of-type {\n",
       "        vertical-align: middle;\n",
       "    }\n",
       "\n",
       "    .dataframe tbody tr th {\n",
       "        vertical-align: top;\n",
       "    }\n",
       "\n",
       "    .dataframe thead th {\n",
       "        text-align: right;\n",
       "    }\n",
       "</style>\n",
       "<table border=\"1\" class=\"dataframe\">\n",
       "  <thead>\n",
       "    <tr style=\"text-align: right;\">\n",
       "      <th></th>\n",
       "      <th>CustomerId</th>\n",
       "      <th>Name</th>\n",
       "      <th>CityId</th>\n",
       "    </tr>\n",
       "  </thead>\n",
       "  <tbody>\n",
       "    <tr>\n",
       "      <th>0</th>\n",
       "      <td>1</td>\n",
       "      <td>Brad Davis</td>\n",
       "      <td>2</td>\n",
       "    </tr>\n",
       "    <tr>\n",
       "      <th>1</th>\n",
       "      <td>2</td>\n",
       "      <td>Julian Green</td>\n",
       "      <td>1</td>\n",
       "    </tr>\n",
       "    <tr>\n",
       "      <th>2</th>\n",
       "      <td>3</td>\n",
       "      <td>Geoff Cameron</td>\n",
       "      <td>2</td>\n",
       "    </tr>\n",
       "    <tr>\n",
       "      <th>3</th>\n",
       "      <td>4</td>\n",
       "      <td>Fabian Johnson</td>\n",
       "      <td>3</td>\n",
       "    </tr>\n",
       "  </tbody>\n",
       "</table>\n",
       "</div>"
      ],
      "text/plain": [
       "   CustomerId            Name  CityId\n",
       "0           1      Brad Davis       2\n",
       "1           2    Julian Green       1\n",
       "2           3   Geoff Cameron       2\n",
       "3           4  Fabian Johnson       3"
      ]
     },
     "metadata": {},
     "output_type": "display_data"
    }
   ],
   "source": [
    "customer_table = pd.DataFrame(customers)\n",
    "display(customer_table)"
   ]
  },
  {
   "cell_type": "code",
   "execution_count": 22,
   "id": "25998ebc",
   "metadata": {},
   "outputs": [
    {
     "data": {
      "text/html": [
       "<div>\n",
       "<style scoped>\n",
       "    .dataframe tbody tr th:only-of-type {\n",
       "        vertical-align: middle;\n",
       "    }\n",
       "\n",
       "    .dataframe tbody tr th {\n",
       "        vertical-align: top;\n",
       "    }\n",
       "\n",
       "    .dataframe thead th {\n",
       "        text-align: right;\n",
       "    }\n",
       "</style>\n",
       "<table border=\"1\" class=\"dataframe\">\n",
       "  <thead>\n",
       "    <tr style=\"text-align: right;\">\n",
       "      <th></th>\n",
       "      <th>SalesmanId</th>\n",
       "      <th>Name</th>\n",
       "      <th>CityId</th>\n",
       "      <th>Comission</th>\n",
       "    </tr>\n",
       "  </thead>\n",
       "  <tbody>\n",
       "    <tr>\n",
       "      <th>0</th>\n",
       "      <td>1</td>\n",
       "      <td>James Knite</td>\n",
       "      <td>1</td>\n",
       "      <td>0.15</td>\n",
       "    </tr>\n",
       "    <tr>\n",
       "      <th>1</th>\n",
       "      <td>2</td>\n",
       "      <td>Reinhardt Wilhelm</td>\n",
       "      <td>3</td>\n",
       "      <td>0.11</td>\n",
       "    </tr>\n",
       "    <tr>\n",
       "      <th>2</th>\n",
       "      <td>3</td>\n",
       "      <td>Ikuzu Midoriya</td>\n",
       "      <td>2</td>\n",
       "      <td>0.09</td>\n",
       "    </tr>\n",
       "  </tbody>\n",
       "</table>\n",
       "</div>"
      ],
      "text/plain": [
       "   SalesmanId               Name  CityId  Comission\n",
       "0           1        James Knite       1       0.15\n",
       "1           2  Reinhardt Wilhelm       3       0.11\n",
       "2           3     Ikuzu Midoriya       2       0.09"
      ]
     },
     "metadata": {},
     "output_type": "display_data"
    }
   ],
   "source": [
    "salesman_table = pd.DataFrame(salesmans)\n",
    "display(salesman_table)"
   ]
  },
  {
   "cell_type": "code",
   "execution_count": 23,
   "id": "6af57857",
   "metadata": {},
   "outputs": [
    {
     "data": {
      "text/html": [
       "<div>\n",
       "<style scoped>\n",
       "    .dataframe tbody tr th:only-of-type {\n",
       "        vertical-align: middle;\n",
       "    }\n",
       "\n",
       "    .dataframe tbody tr th {\n",
       "        vertical-align: top;\n",
       "    }\n",
       "\n",
       "    .dataframe thead th {\n",
       "        text-align: right;\n",
       "    }\n",
       "</style>\n",
       "<table border=\"1\" class=\"dataframe\">\n",
       "  <thead>\n",
       "    <tr style=\"text-align: right;\">\n",
       "      <th></th>\n",
       "      <th>CityId</th>\n",
       "      <th>Name</th>\n",
       "    </tr>\n",
       "  </thead>\n",
       "  <tbody>\n",
       "    <tr>\n",
       "      <th>0</th>\n",
       "      <td>1</td>\n",
       "      <td>New York</td>\n",
       "    </tr>\n",
       "    <tr>\n",
       "      <th>1</th>\n",
       "      <td>2</td>\n",
       "      <td>Tokyo</td>\n",
       "    </tr>\n",
       "    <tr>\n",
       "      <th>2</th>\n",
       "      <td>3</td>\n",
       "      <td>Berlin</td>\n",
       "    </tr>\n",
       "  </tbody>\n",
       "</table>\n",
       "</div>"
      ],
      "text/plain": [
       "   CityId      Name\n",
       "0       1  New York\n",
       "1       2     Tokyo\n",
       "2       3    Berlin"
      ]
     },
     "metadata": {},
     "output_type": "display_data"
    }
   ],
   "source": [
    "city_table = pd.DataFrame(cities)\n",
    "display(city_table)"
   ]
  },
  {
   "cell_type": "code",
   "execution_count": 26,
   "id": "e5c1941e",
   "metadata": {},
   "outputs": [
    {
     "ename": "KeyError",
     "evalue": "\"['CustomerId_ex'] not found in axis\"",
     "output_type": "error",
     "traceback": [
      "\u001b[31m---------------------------------------------------------------------------\u001b[39m",
      "\u001b[31mKeyError\u001b[39m                                  Traceback (most recent call last)",
      "\u001b[36mCell\u001b[39m\u001b[36m \u001b[39m\u001b[32mIn[26]\u001b[39m\u001b[32m, line 5\u001b[39m\n\u001b[32m      3\u001b[39m vendedor_venta_cliente.rename(columns = {\u001b[33m\"\u001b[39m\u001b[33mCustomerId\u001b[39m\u001b[33m\"\u001b[39m:\u001b[33m\"\u001b[39m\u001b[33mCustomerId_ex\u001b[39m\u001b[33m\"\u001b[39m}, inplace = \u001b[38;5;28;01mTrue\u001b[39;00m)\n\u001b[32m      4\u001b[39m vendedor_venta_cliente.reset_index(inplace = \u001b[38;5;28;01mTrue\u001b[39;00m)\n\u001b[32m----> \u001b[39m\u001b[32m5\u001b[39m vendedor_venta_cliente.drop(\u001b[33m'\u001b[39m\u001b[33mCustomerId_ex\u001b[39m\u001b[33m'\u001b[39m, axis = \u001b[32m1\u001b[39m, inplace = \u001b[38;5;28;01mTrue\u001b[39;00m)\n\u001b[32m      6\u001b[39m name_customer = customer_table[customer_table[\u001b[33m'\u001b[39m\u001b[33mCustomerId\u001b[39m\u001b[33m'\u001b[39m].isin(vendedor_venta_cliente[\u001b[33m'\u001b[39m\u001b[33mCustomerId\u001b[39m\u001b[33m'\u001b[39m])][\u001b[33m'\u001b[39m\u001b[33mName\u001b[39m\u001b[33m'\u001b[39m].values\n\u001b[32m      7\u001b[39m name_salesman = salesman_table[salesman_table[\u001b[33m'\u001b[39m\u001b[33mSalesmanId\u001b[39m\u001b[33m'\u001b[39m].isin(vendedor_venta_cliente[\u001b[33m'\u001b[39m\u001b[33mSalesmanId\u001b[39m\u001b[33m'\u001b[39m])][\u001b[33m'\u001b[39m\u001b[33mName\u001b[39m\u001b[33m'\u001b[39m].values\n",
      "\u001b[36mFile \u001b[39m\u001b[32m~\\anaconda3\\envs\\machinelearning-1\\Lib\\site-packages\\pandas\\core\\frame.py:5588\u001b[39m, in \u001b[36mDataFrame.drop\u001b[39m\u001b[34m(self, labels, axis, index, columns, level, inplace, errors)\u001b[39m\n\u001b[32m   5440\u001b[39m \u001b[38;5;28;01mdef\u001b[39;00m\u001b[38;5;250m \u001b[39m\u001b[34mdrop\u001b[39m(\n\u001b[32m   5441\u001b[39m     \u001b[38;5;28mself\u001b[39m,\n\u001b[32m   5442\u001b[39m     labels: IndexLabel | \u001b[38;5;28;01mNone\u001b[39;00m = \u001b[38;5;28;01mNone\u001b[39;00m,\n\u001b[32m   (...)\u001b[39m\u001b[32m   5449\u001b[39m     errors: IgnoreRaise = \u001b[33m\"\u001b[39m\u001b[33mraise\u001b[39m\u001b[33m\"\u001b[39m,\n\u001b[32m   5450\u001b[39m ) -> DataFrame | \u001b[38;5;28;01mNone\u001b[39;00m:\n\u001b[32m   5451\u001b[39m \u001b[38;5;250m    \u001b[39m\u001b[33;03m\"\"\"\u001b[39;00m\n\u001b[32m   5452\u001b[39m \u001b[33;03m    Drop specified labels from rows or columns.\u001b[39;00m\n\u001b[32m   5453\u001b[39m \n\u001b[32m   (...)\u001b[39m\u001b[32m   5586\u001b[39m \u001b[33;03m            weight  1.0     0.8\u001b[39;00m\n\u001b[32m   5587\u001b[39m \u001b[33;03m    \"\"\"\u001b[39;00m\n\u001b[32m-> \u001b[39m\u001b[32m5588\u001b[39m     \u001b[38;5;28;01mreturn\u001b[39;00m \u001b[38;5;28msuper\u001b[39m().drop(\n\u001b[32m   5589\u001b[39m         labels=labels,\n\u001b[32m   5590\u001b[39m         axis=axis,\n\u001b[32m   5591\u001b[39m         index=index,\n\u001b[32m   5592\u001b[39m         columns=columns,\n\u001b[32m   5593\u001b[39m         level=level,\n\u001b[32m   5594\u001b[39m         inplace=inplace,\n\u001b[32m   5595\u001b[39m         errors=errors,\n\u001b[32m   5596\u001b[39m     )\n",
      "\u001b[36mFile \u001b[39m\u001b[32m~\\anaconda3\\envs\\machinelearning-1\\Lib\\site-packages\\pandas\\core\\generic.py:4807\u001b[39m, in \u001b[36mNDFrame.drop\u001b[39m\u001b[34m(self, labels, axis, index, columns, level, inplace, errors)\u001b[39m\n\u001b[32m   4805\u001b[39m \u001b[38;5;28;01mfor\u001b[39;00m axis, labels \u001b[38;5;129;01min\u001b[39;00m axes.items():\n\u001b[32m   4806\u001b[39m     \u001b[38;5;28;01mif\u001b[39;00m labels \u001b[38;5;129;01mis\u001b[39;00m \u001b[38;5;129;01mnot\u001b[39;00m \u001b[38;5;28;01mNone\u001b[39;00m:\n\u001b[32m-> \u001b[39m\u001b[32m4807\u001b[39m         obj = obj._drop_axis(labels, axis, level=level, errors=errors)\n\u001b[32m   4809\u001b[39m \u001b[38;5;28;01mif\u001b[39;00m inplace:\n\u001b[32m   4810\u001b[39m     \u001b[38;5;28mself\u001b[39m._update_inplace(obj)\n",
      "\u001b[36mFile \u001b[39m\u001b[32m~\\anaconda3\\envs\\machinelearning-1\\Lib\\site-packages\\pandas\\core\\generic.py:4849\u001b[39m, in \u001b[36mNDFrame._drop_axis\u001b[39m\u001b[34m(self, labels, axis, level, errors, only_slice)\u001b[39m\n\u001b[32m   4847\u001b[39m         new_axis = axis.drop(labels, level=level, errors=errors)\n\u001b[32m   4848\u001b[39m     \u001b[38;5;28;01melse\u001b[39;00m:\n\u001b[32m-> \u001b[39m\u001b[32m4849\u001b[39m         new_axis = axis.drop(labels, errors=errors)\n\u001b[32m   4850\u001b[39m     indexer = axis.get_indexer(new_axis)\n\u001b[32m   4852\u001b[39m \u001b[38;5;66;03m# Case for non-unique axis\u001b[39;00m\n\u001b[32m   4853\u001b[39m \u001b[38;5;28;01melse\u001b[39;00m:\n",
      "\u001b[36mFile \u001b[39m\u001b[32m~\\anaconda3\\envs\\machinelearning-1\\Lib\\site-packages\\pandas\\core\\indexes\\base.py:7098\u001b[39m, in \u001b[36mIndex.drop\u001b[39m\u001b[34m(self, labels, errors)\u001b[39m\n\u001b[32m   7096\u001b[39m \u001b[38;5;28;01mif\u001b[39;00m mask.any():\n\u001b[32m   7097\u001b[39m     \u001b[38;5;28;01mif\u001b[39;00m errors != \u001b[33m\"\u001b[39m\u001b[33mignore\u001b[39m\u001b[33m\"\u001b[39m:\n\u001b[32m-> \u001b[39m\u001b[32m7098\u001b[39m         \u001b[38;5;28;01mraise\u001b[39;00m \u001b[38;5;167;01mKeyError\u001b[39;00m(\u001b[33mf\u001b[39m\u001b[33m\"\u001b[39m\u001b[38;5;132;01m{\u001b[39;00mlabels[mask].tolist()\u001b[38;5;132;01m}\u001b[39;00m\u001b[33m not found in axis\u001b[39m\u001b[33m\"\u001b[39m)\n\u001b[32m   7099\u001b[39m     indexer = indexer[~mask]\n\u001b[32m   7100\u001b[39m \u001b[38;5;28;01mreturn\u001b[39;00m \u001b[38;5;28mself\u001b[39m.delete(indexer)\n",
      "\u001b[31mKeyError\u001b[39m: \"['CustomerId_ex'] not found in axis\""
     ]
    }
   ],
   "source": [
    "# up = t[t['Name'] == 'pepe']['gus'].values[0]\n",
    "vendedor_venta_cliente = pd.DataFrame(order_table.groupby(['SalesmanId', 'Amount']).agg('CustomerId').value_counts()).iloc[-1:]\n",
    "vendedor_venta_cliente.rename(columns = {\"CustomerId\":\"CustomerId_ex\"}, inplace = True)\n",
    "vendedor_venta_cliente.reset_index(inplace = True)\n",
    "vendedor_venta_cliente.drop('CustomerId_ex', axis = 1, inplace = True)\n",
    "name_customer = customer_table[customer_table['CustomerId'].isin(vendedor_venta_cliente['CustomerId'])]['Name'].values\n",
    "name_salesman = salesman_table[salesman_table['SalesmanId'].isin(vendedor_venta_cliente['SalesmanId'])]['Name'].values\n",
    "print(f'El nombre del vendedor con la mejor venta es: {name_salesman}, al cliente {name_customer}')"
   ]
  },
  {
   "cell_type": "code",
   "execution_count": 27,
   "id": "1f9f61a7",
   "metadata": {},
   "outputs": [
    {
     "name": "stdout",
     "output_type": "stream",
     "text": [
      "Media del dinero de los pedidos de los clientes de Tokyo: 1852.95\n"
     ]
    }
   ],
   "source": [
    "city_id_tokyo = city_table[city_table['Name'] == 'Tokyo']['CityId'].values\n",
    "customer_id_tokyo =  customer_table[customer_table['CityId'].isin(city_id_tokyo)]['CustomerId'].values\n",
    "mean_tokyo = order_table[order_table['CustomerId'].isin(customer_id_tokyo)]['Amount'].mean()\n",
    "print(f'Media del dinero de los pedidos de los clientes de Tokyo: {mean_tokyo}')\n"
   ]
  },
  {
   "cell_type": "code",
   "execution_count": 28,
   "id": "feb36b43",
   "metadata": {},
   "outputs": [
    {
     "name": "stdout",
     "output_type": "stream",
     "text": [
      "Total del dinero de las comisiones del vendedor Ikuzu Midoriya en el mes de Agosto: 4206.05\n"
     ]
    }
   ],
   "source": [
    "ikuzu = salesman_table[salesman_table['Name'] == 'Ikuzu Midoriya']['SalesmanId'].values\n",
    "ikuzu_table = order_table[order_table['SalesmanId'].isin(ikuzu)].groupby('OrderDate').agg('Amount').value_counts()\n",
    "total = ikuzu_table.index[1][1] + ikuzu_table.index[2][1]\n",
    "print(f'Total del dinero de las comisiones del vendedor Ikuzu Midoriya en el mes de Agosto: {total}')"
   ]
  },
  {
   "cell_type": "markdown",
   "id": "8193738a-9028-4ec5-ba4e-bd9de74c9f1f",
   "metadata": {},
   "source": [
    "## 07 - 1pt\n",
    "- Escribir un generador `frange` que simule el comportamiento de la función `arange` de NumPy\n",
    "- Esta función cada vez que se invoque debe devolver valores espaciados uniformemente a partir de un valor inicial. Se debe proveer a dicha función un valor inicial para la secuencia de números y un valor para el step\n",
    "- Debe soportar valores númericos en coma flotante\n",
    "- La función potencialmente se puede llamar un número infinito de veces\n",
    "- Usando plain Python, sin ninguna librería"
   ]
  },
  {
   "cell_type": "code",
   "execution_count": null,
   "id": "bbe212e9-d422-408d-8037-ce6d0e416d25",
   "metadata": {},
   "outputs": [],
   "source": [
    "import math\n",
    "\n",
    "init = 10.6\n",
    "step = 0.8\n",
    "g = frange(init, step)  # This calls your function frange\n",
    "\n",
    "iters = 10\n",
    "numbers = [next(g) for n in range(iters)]\n",
    "for i, n in enumerate(numbers):\n",
    "    assert(math.isclose(n, init + (step * i)))  # This will fail if the range is not properly created"
   ]
  },
  {
   "cell_type": "code",
   "execution_count": null,
   "id": "8092c7c1-c1c8-4492-b08c-489f8767ed73",
   "metadata": {},
   "outputs": [],
   "source": [
    "# Your solution HERE !!!!\n",
    "def frange(init, step):\n",
    "    temp = float(init)\n",
    "    yield temp\n",
    "    while True:\n",
    "        temp = temp + step\n",
    "        yield temp"
   ]
  },
  {
   "cell_type": "markdown",
   "id": "202c6c38-649d-4991-b118-12e6364d8ab0",
   "metadata": {},
   "source": [
    "## 08 - 1pt\n",
    "- Crear una lista de meses de Enero a Diciembre (eje X)\n",
    "- Generar datos aleatorios para el eje Y, hacerlo 3 veces distintas (Y0, Y1 e Y2)\n",
    "- Representar las 3 secuencias de datos aleatorios en una sola figura usando matplotlib\n",
    "- Añadir una leyenda para poder identificar cada secuencia\n",
    "- Nombrar las 3 secuencias de la siguiente manera (\"Facebook\", \"Twitter\", \"Instagram\")\n",
    "- Añadir un título y nombres a los dos ejes\n",
    "- Añadir una anotación (texto y flecha) a uno de los gráficos"
   ]
  },
  {
   "cell_type": "code",
   "execution_count": 29,
   "id": "b0dfefef-66a5-4804-af34-810fcaf25b5e",
   "metadata": {},
   "outputs": [
    {
     "data": {
      "image/png": "[encoded data removed]",
      "text/plain": [
       "<Figure size 640x480 with 1 Axes>"
      ]
     },
     "metadata": {},
     "output_type": "display_data"
    }
   ],
   "source": [
    "# Your solution HERE !!!!\n",
    "months = ['Enero', 'Febrero', 'Marzo', 'Abril', 'Mayo', 'Junio', 'Julio', 'Agosto', 'Septiembre', 'Octubre', 'Noviembre', 'Diciembre']\n",
    "Y0, Y1, Y2 = [np.random.randint(12, size = (12)) for _ in range(3)]\n",
    "\n",
    "fig, axis = plt.subplots(1,1)\n",
    "\n",
    "axis.plot(months, Y0, label = 'Facebook',)\n",
    "axis.plot(months, Y1, label = 'Twitter')\n",
    "axis.plot(months, Y2, label = 'Instagram')\n",
    "\n",
    "axis.legend(loc = 'best')\n",
    "\n",
    "axis.set_title('Apps data')\n",
    "axis.set_xlabel('Months')\n",
    "axis.set_ylabel('Users')\n",
    "\n",
    "fig.autofmt_xdate()\n",
    "\n",
    "plt.grid()\n",
    "plt.show() \n"
   ]
  },
  {
   "cell_type": "code",
   "execution_count": null,
   "id": "25685c48-b024-4f2e-995b-2e08749f9e6b",
   "metadata": {},
   "outputs": [],
   "source": []
  }
 ],
 "metadata": {
  "kernelspec": {
   "display_name": "Python 3 (ipykernel)",
   "language": "python",
   "name": "python3"
  },
  "language_info": {
   "codemirror_mode": {
    "name": "ipython",
    "version": 3
   },
   "file_extension": ".py",
   "mimetype": "text/x-python",
   "name": "python",
   "nbconvert_exporter": "python",
   "pygments_lexer": "ipython3",
   "version": "3.11.13"
  },
  "vscode": {
   "interpreter": {
    "hash": "5729e048edb60ed6a0f16d22dbaa05e6b0ba5dbe48621622169cf76b607ac6a8"
   }
  }
 },
 "nbformat": 4,
 "nbformat_minor": 5
}
