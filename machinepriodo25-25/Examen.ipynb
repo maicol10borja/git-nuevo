{
 "cells": [
  {
   "attachments": {},
   "cell_type": "markdown",
   "id": "43115e44-f75d-465a-ad62-9b2be737a6e6",
   "metadata": {},
   "source": [
    "# Examen "
   ]
  },
  {
   "cell_type": "code",
   "execution_count": null,
   "id": "eb8ba270-b03c-49f8-b092-8de37baa3bfe",
   "metadata": {},
   "outputs": [],
   "source": [
    "# Your imports HERE !!!!"
   ]
  },
  {
   "attachments": {},
   "cell_type": "markdown",
   "id": "2206adbd-c8e0-4665-a20b-bb6a1503d388",
   "metadata": {
    "tags": []
   },
   "source": [
    "## 01 - 1 pt\n",
    "- Dado un array de elementos, escribir una función, que reciba dicho array como parámetro de entrada y devuelva el elemento repetido. Usando plain Python, sin ninguna librería."
   ]
  },
  {
   "cell_type": "code",
   "execution_count": null,
   "id": "748595ea-d6b6-4f35-a824-ea3631d7e15a",
   "metadata": {},
   "outputs": [],
   "source": [
    "array_src = [4, 8, 0, 3, 6, 2, 1, 5, 3, 9, 7]\n",
    "expected_rep_element = 3\n",
    "rep_element = repeated_element(array_src) # This calls your function repeated_element\n",
    "assert(expected_rep_element == rep_element)  # This will fail if the element is not found correctly"
   ]
  },
  {
   "cell_type": "code",
   "execution_count": null,
   "id": "3b6d4855-e751-4f45-8382-1291885aef0c",
   "metadata": {},
   "outputs": [],
   "source": [
    "# Your solution HERE !!!!"
   ]
  },
  {
   "attachments": {},
   "cell_type": "markdown",
   "id": "5161decf-e061-44a9-a413-8d3921a10058",
   "metadata": {
    "tags": []
   },
   "source": [
    "## 02 - 1pt\n",
    "- Genera una matriz con valores aleatorios de 0 a 100 de dimensiones 16x16\n",
    "- Calcula los siguentes estadísticos en la matriz anterior, por fila (el resultado de cada uno debe ser un array de dimensiones 1x16)\n",
    "  - Suma de los elementos de cada fila\n",
    "  - Media de los elementos de cada fila\n",
    "  - Valores mínimos de cada fila\n",
    "  - Valores máximos de cada fila"
   ]
  },
  {
   "cell_type": "code",
   "execution_count": null,
   "id": "2e7bfe3c-253f-4287-8d85-fb7e5163e6c0",
   "metadata": {},
   "outputs": [],
   "source": [
    "# Your solution HERE !!!!"
   ]
  },
  {
   "attachments": {},
   "cell_type": "markdown",
   "id": "9986c32f-299d-4ce7-809e-db01ee851764",
   "metadata": {
    "tags": []
   },
   "source": [
    "## 03 - 1pt\n",
    "\n",
    "- Generar un dataframe de 3x4 dimensiones con valores númericos aleatorios [0,10]\n",
    "- Darle un índice semántico alfanumérico\n",
    "- Aplicarle una función lambda que obtenga la diferencia entre el máximo y mínimo de cada fila"
   ]
  },
  {
   "cell_type": "code",
   "execution_count": null,
   "id": "18ff9dbf-9ba4-4513-8a73-d0328b689dc9",
   "metadata": {},
   "outputs": [],
   "source": [
    "# Your solution HERE !!!!"
   ]
  },
  {
   "attachments": {},
   "cell_type": "markdown",
   "id": "1dc73e21-7283-4cd5-92e8-3a7e1e70fd02",
   "metadata": {
    "tags": []
   },
   "source": [
    "## 04 - 1pt\n",
    "- Crear un array de NumPy de dimensiones 8x5, con números enteros aleatorios en el rango [-100, 100]\n",
    "- Ejecutar en este orden\n",
    "\n",
    "  1. Reemplazar los valores de todos aquellos números múltiplos de 5 por 100\n",
    "  2. Reemplazar los valores de todos aquellos números múltiplos de 3 por Nan\n",
    "   \n",
    "  2. Averiguar cuantos elementos tienen Nan por fila\n",
    "  3. Reemplazar los valores de Nan por 0"
   ]
  },
  {
   "cell_type": "code",
   "execution_count": null,
   "id": "2fd83be4-8626-4eaa-9ead-6f951d5ebbfb",
   "metadata": {},
   "outputs": [],
   "source": [
    "# Your solution HERE !!!!"
   ]
  },
  {
   "attachments": {},
   "cell_type": "markdown",
   "id": "45fe9b96-168d-4bdc-a472-fb41c9031c0d",
   "metadata": {
    "tags": []
   },
   "source": [
    "## 05 - 1pt\n",
    "- Crear una función que reciba una lista de strings y devuelva una serie de pandas, y convierta el primer y último carácter de la palabra de cada elemento de la serie a mayúsculas"
   ]
  },
  {
   "cell_type": "code",
   "execution_count": null,
   "id": "19fab47f-5fbe-4baa-93af-fc6776d748d1",
   "metadata": {},
   "outputs": [],
   "source": [
    "languages = ['python', 'php', 'java', 'javascript', 'c++', 'sql']\n",
    "expected_output = pd.Series(['PythoN', 'PhP', 'JavA', 'JavascripT', 'C++', 'SqL'])\n",
    "output = first_last_uppercase(languages)  # This calls your function first_last_uppercase\n",
    "assert(expected_output.equals(output))  # This will fail if the two lists are different"
   ]
  },
  {
   "cell_type": "code",
   "execution_count": null,
   "id": "b6b5696b-71fd-4dc4-8536-18eb2d69a8fa",
   "metadata": {},
   "outputs": [],
   "source": [
    "# Your solution HERE !!!!"
   ]
  },
  {
   "attachments": {},
   "cell_type": "markdown",
   "id": "d037ca2d-d40e-4fe2-8f9a-8088e927a911",
   "metadata": {
    "tags": []
   },
   "source": [
    "## 07 - 1pt\n",
    "- La serie de Fibonacci es una sucesión de números, en la cual cada número es la suma de los dos anteriores. Los dos primeros son siempre 0 y 1.\n",
    "  - $F_0 = 0$\n",
    "  - $F_1 = 1$\n",
    "  - $F_n = F_{n-1} + F_{n-2}$\n",
    "- Crear un generador infinito de números de Fibonacci."
   ]
  },
  {
   "cell_type": "code",
   "execution_count": null,
   "id": "4020e4a6-263f-4d35-a01f-c56d4b6c1336",
   "metadata": {},
   "outputs": [],
   "source": [
    "fibo = [0,1,1,2,3,5,8,13,21,34,55,89,144,233,377,610,987,1597]\n",
    "g = fibonacci_generator()  # This calls tour function fibonacci_generator\n",
    "expected_output = [next(g) for n in range(len(fibo))]\n",
    "assert(fibo == expected_output)  # This will fail if the output is not as expected"
   ]
  },
  {
   "cell_type": "code",
   "execution_count": null,
   "id": "8092c7c1-c1c8-4492-b08c-489f8767ed73",
   "metadata": {},
   "outputs": [],
   "source": [
    "# Your solution HERE !!!!"
   ]
  },
  {
   "attachments": {},
   "cell_type": "markdown",
   "id": "202c6c38-649d-4991-b118-12e6364d8ab0",
   "metadata": {},
   "source": [
    "## 07 - 4pt\n",
    "- Crear una lista de meses de Enero a Diciembre (eje X)\n",
    "- Generar datos aleatorios para el eje Y, hacerlo 3 veces distintas (Y0, Y1 e Y2)\n",
    "- Representar las 3 secuencias de datos aleatorios en una sola figura usando matplotlib\n",
    "- Añadir una leyenda para poder identificar cada secuencia\n",
    "- Nombrar las 3 secuencias de la siguiente manera (\"Facebook\", \"Twitter\", \"Instagram\")\n",
    "- Añadir un título y nombres a los dos ejes\n",
    "- Añadir una anotación (texto y flecha) a uno de los gráficos"
   ]
  },
  {
   "cell_type": "code",
   "execution_count": null,
   "id": "b0dfefef-66a5-4804-af34-810fcaf25b5e",
   "metadata": {},
   "outputs": [],
   "source": [
    "# Your solution HERE !!!!"
   ]
  }
 ],
 "metadata": {
  "kernelspec": {
   "display_name": "Python 3 (ipykernel)",
   "language": "python",
   "name": "python3"
  },
  "language_info": {
   "codemirror_mode": {
    "name": "ipython",
    "version": 3
   },
   "file_extension": ".py",
   "mimetype": "text/x-python",
   "name": "python",
   "nbconvert_exporter": "python",
   "pygments_lexer": "ipython3",
   "version": "3.11.13"
  }
 },
 "nbformat": 4,
 "nbformat_minor": 5
}
