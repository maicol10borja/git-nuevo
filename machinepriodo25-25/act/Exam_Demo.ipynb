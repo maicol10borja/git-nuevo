{
 "cells": [
  {
   "cell_type": "markdown",
   "id": "cffbcd0e-dc00-4547-ac87-ef95eb5bbb51",
   "metadata": {},
   "source": [
    "# Examen Demo"
   ]
  },
  {
   "cell_type": "code",
   "execution_count": 1,
   "id": "8ef7d433-2f37-43b7-95ad-5c65b99f39b9",
   "metadata": {},
   "outputs": [],
   "source": [
    "# Your imports HERE !!!!\n",
    "import numpy as np\n",
    "import pandas as pd"
   ]
  },
  {
   "cell_type": "markdown",
   "id": "c9b31578-ccb1-4e0a-a8f8-e5934eb77244",
   "metadata": {
    "tags": []
   },
   "source": [
    "## 01\n",
    "- Dado un diccionario con una lista de nombres de películas y el año concatenado, crear una función que devuelva un DataFrame con dos columnas:\n",
    "  - Columna 1, el nombre de la película sin el año\n",
    "  - Columna 2, el año de la película"
   ]
  },
  {
   "cell_type": "code",
   "execution_count": 4,
   "id": "43205b0e-36f7-4eae-be56-9a281ae978a5",
   "metadata": {},
   "outputs": [
    {
     "data": {
      "text/html": [
       "<div>\n",
       "<style scoped>\n",
       "    .dataframe tbody tr th:only-of-type {\n",
       "        vertical-align: middle;\n",
       "    }\n",
       "\n",
       "    .dataframe tbody tr th {\n",
       "        vertical-align: top;\n",
       "    }\n",
       "\n",
       "    .dataframe thead th {\n",
       "        text-align: right;\n",
       "    }\n",
       "</style>\n",
       "<table border=\"1\" class=\"dataframe\">\n",
       "  <thead>\n",
       "    <tr style=\"text-align: right;\">\n",
       "      <th></th>\n",
       "      <th>Name</th>\n",
       "      <th>Year</th>\n",
       "    </tr>\n",
       "  </thead>\n",
       "  <tbody>\n",
       "    <tr>\n",
       "      <th>0</th>\n",
       "      <td>Matrix</td>\n",
       "      <td>1999</td>\n",
       "    </tr>\n",
       "    <tr>\n",
       "      <th>1</th>\n",
       "      <td>Cadena Perpetua</td>\n",
       "      <td>1994</td>\n",
       "    </tr>\n",
       "    <tr>\n",
       "      <th>2</th>\n",
       "      <td>Parasitos</td>\n",
       "      <td>2019</td>\n",
       "    </tr>\n",
       "    <tr>\n",
       "      <th>3</th>\n",
       "      <td>Vengadores, Endgame</td>\n",
       "      <td>2019</td>\n",
       "    </tr>\n",
       "    <tr>\n",
       "      <th>4</th>\n",
       "      <td>Interstellar</td>\n",
       "      <td>2014</td>\n",
       "    </tr>\n",
       "    <tr>\n",
       "      <th>5</th>\n",
       "      <td>Django Desencadenado</td>\n",
       "      <td>2012</td>\n",
       "    </tr>\n",
       "    <tr>\n",
       "      <th>6</th>\n",
       "      <td>El Padrino</td>\n",
       "      <td>1972</td>\n",
       "    </tr>\n",
       "    <tr>\n",
       "      <th>7</th>\n",
       "      <td>El Caballero Oscuro</td>\n",
       "      <td>2008</td>\n",
       "    </tr>\n",
       "    <tr>\n",
       "      <th>8</th>\n",
       "      <td>Erase Una Vez En America</td>\n",
       "      <td>1984</td>\n",
       "    </tr>\n",
       "    <tr>\n",
       "      <th>9</th>\n",
       "      <td>El Senyor de los Anillos, La Comunidad del Anillo</td>\n",
       "      <td>2001</td>\n",
       "    </tr>\n",
       "  </tbody>\n",
       "</table>\n",
       "</div>"
      ],
      "text/plain": [
       "                                                Name  Year\n",
       "0                                             Matrix  1999\n",
       "1                                    Cadena Perpetua  1994\n",
       "2                                          Parasitos  2019\n",
       "3                                Vengadores, Endgame  2019\n",
       "4                                       Interstellar  2014\n",
       "5                               Django Desencadenado  2012\n",
       "6                                         El Padrino  1972\n",
       "7                                El Caballero Oscuro  2008\n",
       "8                           Erase Una Vez En America  1984\n",
       "9  El Senyor de los Anillos, La Comunidad del Anillo  2001"
      ]
     },
     "metadata": {},
     "output_type": "display_data"
    }
   ],
   "source": [
    "movies = {'Name': [\"Matrix - 1999\", \"Cadena Perpetua - 1994\", \"Parasitos - 2019\", \"Vengadores, Endgame - 2019\", \"Interstellar - 2014\",\n",
    "                   \"Django Desencadenado - 2012\", \"El Padrino - 1972\", \"El Caballero Oscuro - 2008\", \"Erase Una Vez En America - 1984\",\n",
    "                   \"El Senyor de los Anillos, La Comunidad del Anillo - 2001\"]}\n",
    "expected_output = pd.DataFrame({'Name':[\"Matrix\", \"Cadena Perpetua\", \"Parasitos\", \"Vengadores, Endgame\", \"Interstellar\", \"Django Desencadenado\",\n",
    "                                        \"El Padrino\", \"El Caballero Oscuro\", \"Erase Una Vez En America\", \"El Senyor de los Anillos, La Comunidad del Anillo\"],\n",
    "                                'Year':[\"1999\", \"1994\", \"2019\", \"2019\", \"2014\", \"2012\", \"1972\", \"2008\", \"1984\", \"2001\"]})\n",
    "output = extract_year(movies)   # This will call your function extract_year\n",
    "display(output)\n",
    "assert(expected_output.equals(output))  # This will fail if the result is not as expected"
   ]
  },
  {
   "cell_type": "code",
   "execution_count": 3,
   "id": "7f9d090c-d087-4694-8249-3e89f5e866cb",
   "metadata": {},
   "outputs": [],
   "source": [
    "# Your solution HERE !!!!\n",
    "def extract_year(movies):\n",
    "    def split_year(title):\n",
    "        index = title.index('-')\n",
    "        return title[index:].replace('-','').strip()\n",
    "    \n",
    "    def remove_year(title):\n",
    "        index = title.index('-')\n",
    "        return title[:index-1].strip()\n",
    "\n",
    "    df_movies = pd.DataFrame(movies)\n",
    "    df_movies['Year'] = df_movies['Name'].apply(split_year)\n",
    "    df_movies['Name'] = df_movies['Name'].apply(remove_year)\n",
    "    \n",
    "    return df_movies    "
   ]
  },
  {
   "cell_type": "code",
   "execution_count": null,
   "id": "c81e291c-ce4a-4937-b475-020588be38f7",
   "metadata": {},
   "outputs": [],
   "source": [
    "def extract_year(dicci):\n",
    "  dicci2={}\n",
    "  peli=[]\n",
    "  ano=[]\n",
    "  for i in dicci['Name']:\n",
    "    titulo,year=i.split(\" - \")\n",
    "    peli.append(titulo)\n",
    "    ano.append(int(year))\n",
    "\n",
    "  dicci2={'Name':peli,'Year':ano}\n",
    "  frame=pd.DataFrame(dicci2)\n",
    "  return frame"
   ]
  },
  {
   "cell_type": "code",
   "execution_count": null,
   "id": "8d998f25-6c78-4312-a11e-06db0db034e6",
   "metadata": {},
   "outputs": [],
   "source": [
    "def extract_year(movies):\n",
    "  nombres = []\n",
    "  anios = []\n",
    "  for titulo in movies['Name']:\n",
    "    partes = titulo.rsplit(' - ', 1)  \n",
    "    nombre = partes[0]    \n",
    "    anio = partes[1]\n",
    "    nombres.append(nombre)\n",
    "    anios.append(anio)\n",
    "\n",
    "  return pd.DataFrame({'Name': nombres, 'Year': anios})"
   ]
  },
  {
   "cell_type": "code",
   "execution_count": null,
   "id": "7636da48-fc19-4102-9146-7d3468de3380",
   "metadata": {},
   "outputs": [],
   "source": [
    "def extract_year(movies):\n",
    "    df_movies = pd.DataFrame(movies)\n",
    "    df_movies['Year'] = df_movies['Name'].apply(lambda x : x.split('-')[1].strip())\n",
    "    df_movies['Name'] = df_movies['Name'].apply(lambda x : x.split('-')[0].strip())\n",
    "    return df_movies"
   ]
  },
  {
   "cell_type": "markdown",
   "id": "3168850c-f9bb-4060-b6e3-06813ec86e54",
   "metadata": {},
   "source": [
    "## 02\n",
    "- Crear una función que reciba un array de NumPy y devuelva otro en el cual estén marcados como True los elementos duplicados (a partir de la segunda ocurrencia), y como False los no repetidos o las primeras ocurrencias de los duplicados."
   ]
  },
  {
   "cell_type": "code",
   "execution_count": null,
   "id": "bcc96612-dff4-4779-b4df-2595aa235309",
   "metadata": {},
   "outputs": [],
   "source": [
    "numbers = np.array([4, 4, 4, 3, 8, 1, 9, 6, 1, 5, 9, 4, 0, 2])\n",
    "expected_output = np.array([False, True, True, False, False, False, False, False, True, False, True, True, False, False])\n",
    "output = find_duplicates(numbers)   # This calls your function find_duplicates\n",
    "print(output)\n",
    "assert(np.array_equal(expected_output, output))  # This will fail if the result is not as expected"
   ]
  },
  {
   "cell_type": "code",
   "execution_count": null,
   "id": "76618e23-4928-4040-9f7f-f4b08ff4abb2",
   "metadata": {},
   "outputs": [],
   "source": [
    "# Your solution HERE !!!!\n",
    "def find_duplicates(numbers):\n",
    "    serie = pd.Series(numbers)\n",
    "    return serie.duplicated()"
   ]
  },
  {
   "cell_type": "code",
   "execution_count": null,
   "id": "372b08f9-0bd4-4c31-ba17-9405fb07b08d",
   "metadata": {},
   "outputs": [],
   "source": [
    "def find_duplicates(numbers):\n",
    "    _, idx = np.unique(numbers, return_index = True)\n",
    "    result = np.zeros_like(numbers, dtype = bool)\n",
    "    result[idx] = True\n",
    "    result = np.invert(result)\n",
    "    return result"
   ]
  },
  {
   "cell_type": "code",
   "execution_count": null,
   "id": "1e658612-20b5-4493-ae47-693957d816a8",
   "metadata": {},
   "outputs": [],
   "source": [
    "def find_duplicates(numbers):\n",
    "  visto = set()\n",
    "  output = []\n",
    "  for value in numbers:\n",
    "    if value in visto:\n",
    "      output.append(True)\n",
    "    else:\n",
    "      visto.add(value)\n",
    "      output.append(False)\n",
    "  return np.array(output)"
   ]
  },
  {
   "cell_type": "code",
   "execution_count": null,
   "id": "6ecbdcdf-f18f-4858-b093-cee97e1679b3",
   "metadata": {},
   "outputs": [],
   "source": [
    "def find_duplicates(numeros):\n",
    "  dicci={}\n",
    "  resul=np.full(numeros.shape, False, dtype=bool)\n",
    "  for idx, valor in enumerate(numeros):\n",
    "    if valor in dicci:\n",
    "      resul[idx]=True\n",
    "    else:\n",
    "      dicci[valor]=True\n",
    "  return resul"
   ]
  },
  {
   "cell_type": "markdown",
   "id": "93e1a9cd-ee85-48b0-b5e5-3d37aeeddb6e",
   "metadata": {
    "tags": []
   },
   "source": [
    "## 03\n",
    "- Resolución de dos sistemas de ecuaciones\n",
    "    - $ A : \\begin{cases} -9x +  4y = 20 \\\\ -7y + 16x = 80                         \\end{cases}$\n",
    "    \n",
    "    - $ B : \\begin{cases} x - 2y + 3z = 7 \\\\ 2x + y + z = 4 \\\\ -3x + 2y -2z = -10 \\end{cases}$\n",
    "- Verifica por código los resultados"
   ]
  },
  {
   "cell_type": "code",
   "execution_count": null,
   "id": "bbcc2811-859f-4023-bdbd-298750502ead",
   "metadata": {},
   "outputs": [],
   "source": [
    "# Your solution HERE !!!!\n",
    "import math\n",
    "import numpy.linalg as linalg\n",
    "\n",
    "a = np.array([ [-9,4], [16,-7] ])\n",
    "b = np.array([20,80])\n",
    "\n",
    "print(a)\n",
    "print(b)\n",
    "x,y = linalg.solve(a,b)\n",
    "print(f'x={x} y={y}')\n",
    "\n",
    "print(math.isclose(-9*x + 4*y, 20))\n",
    "print(math.isclose(16*x - 7*y, 80))\n",
    "\n",
    "A2 = np.array([[1, -2, 3], [2, 1, 1], [-3, 2, -2]])\n",
    "b2 = np.array([7, 4, -10])\n",
    "\n",
    "x,y,z = np.linalg.solve(A2, b2)\n",
    "print(f'x={x} y={y} z={z}')\n",
    "\n",
    "print(math.isclose(+1*x-2*y+3*z,7))\n",
    "print(math.isclose(2*x+1*y+z,4))\n",
    "print(math.isclose(-3*x+2*y-2*z,-10))"
   ]
  },
  {
   "cell_type": "markdown",
   "id": "655fe747-7f14-42dd-8a9a-6b532517bede",
   "metadata": {
    "tags": []
   },
   "source": [
    "## 04\n",
    "- Crear un objeto Series con 10 elementos, que contenga más de un tipo básico, con índices de tipo string\n",
    "- Demuestra que los datos con índices posicionales son los mismos que los obtenidos con índices semánticos, seleccionando a través de slicing, al menos 4 elementos de la serie anterior"
   ]
  },
  {
   "cell_type": "code",
   "execution_count": null,
   "id": "ce7f3e5d-781e-49f5-9ab8-f8e6593ab327",
   "metadata": {},
   "outputs": [],
   "source": [
    "# Your solution HERE !!!!\n",
    "serie = pd.Series([1,2,3,4,5,True,\"acelga\",4.5,9,10], index = list('abcdefghij'))\n",
    "serie.loc[:'d'] == serie.iloc[:4]"
   ]
  },
  {
   "cell_type": "code",
   "execution_count": null,
   "id": "b4774d8f-51f5-410f-8d4c-4c89babfa997",
   "metadata": {},
   "outputs": [],
   "source": [
    "elementos=pd.Series(['lápiz','4.13','33','True','hola','123','arbol','5.67','mesa','67'], \n",
    "          index=['a','b','c','d','e','f','g','h','i','j'])\n",
    "\n",
    "print(elementos[2:6] == elementos['c':'f'])"
   ]
  },
  {
   "cell_type": "code",
   "execution_count": null,
   "id": "be403e4b-6443-4691-b510-3c6bfe6717af",
   "metadata": {},
   "outputs": [],
   "source": [
    "datos = pd.Series(\n",
    "  [25, 3.14, \"hola\", True, 100, \"AI\", 0.99, False, \"Python\", 7],\n",
    "  index=[\"a\", \"b\", \"c\", \"d\", \"e\", \"f\", \"g\", \"h\", \"i\", \"j\"]\n",
    ")\n",
    "\n",
    "print(datos.iloc[2:6] == datos.loc[\"c\":\"f\"])"
   ]
  },
  {
   "cell_type": "markdown",
   "id": "3f12a152-8257-491a-9b2f-270607831cc0",
   "metadata": {
    "tags": []
   },
   "source": [
    "## 05\n",
    "- Crear un DataFrame de dimensiones 10x10, con números aleatorios en el rango `[0,20]`\n",
    "- Reemplazar todos aquellos elementos menores de 5 por NaN\n",
    "- Averiguar cuantos elementos tienen Nan por fila"
   ]
  },
  {
   "cell_type": "code",
   "execution_count": null,
   "id": "e6c62f70-14cb-446c-86eb-5428f36f627f",
   "metadata": {},
   "outputs": [],
   "source": [
    "# Your solution HERE !!!!\n",
    "df = pd.DataFrame(np.random.randint(21, size = (10,10)))\n",
    "display(df)\n",
    "df.where(df >= 5, np.nan, inplace=True)\n",
    "display(df)\n",
    "print(df.isnull().sum(axis = 1))"
   ]
  },
  {
   "cell_type": "code",
   "execution_count": null,
   "id": "2b967dcc-ceb1-4778-8a7f-e243e7120830",
   "metadata": {},
   "outputs": [],
   "source": [
    "matrix=np.random.randint(21, size=(10,10))\n",
    "frame=pd.DataFrame(matrix)\n",
    "display(frame)\n",
    "frame[frame<5]=np.nan\n",
    "nanfila=frame.isna().sum(axis=1)\n",
    "print(nanfila)"
   ]
  },
  {
   "cell_type": "code",
   "execution_count": null,
   "id": "29df4396-d0fe-46cb-a8bc-bb16a1bbe5e0",
   "metadata": {},
   "outputs": [],
   "source": [
    "df = pd.DataFrame(np.random.randint(0, 20, size=(10, 10)))\n",
    "\n",
    "print(\"DataFrame original:\\n\", df)\n",
    "# 2. Reemplazar elementos menores de 5 por NaN\n",
    "df[df < 5] = np.nan\n",
    "print(\"\\nDataFrame con NaNs:\\n\", df)\n",
    "# 3. Contar cuántos NaNs hay por fila\n",
    "nans_por_fila = df.isna().sum(axis=1)\n",
    "print(\"\\nCantidad de NaNs por fila:\\n\", nans_por_fila)"
   ]
  },
  {
   "cell_type": "markdown",
   "id": "8ba8d87a-190e-48ab-9235-04d875ef994e",
   "metadata": {
    "tags": []
   },
   "source": [
    "## 06\n",
    "- Dada una lista de elementos, crea una función que devuelva un dataframe sin los elementos duplicados"
   ]
  },
  {
   "cell_type": "code",
   "execution_count": null,
   "id": "18d7bb34-b613-497e-b59b-aca2ec09863d",
   "metadata": {},
   "outputs": [],
   "source": [
    "serie = ['a','b','c','a','c','a','g']\n",
    "expected_output = pd.DataFrame(['a','b','c','g'])\n",
    "output = remove_duplicates(serie)   # This will call tour function remove_duplicates\n",
    "display(output)\n",
    "display(expected_output)\n",
    "assert(expected_output.equals(output))  # This will fail if the result is not as expected"
   ]
  },
  {
   "cell_type": "code",
   "execution_count": null,
   "id": "ee636cf0-9bff-497e-b4d9-ab42ac4b166a",
   "metadata": {},
   "outputs": [],
   "source": [
    "# Your solution HERE !!!!\n",
    "def remove_duplicates(lista):\n",
    "    return pd.DataFrame(np.unique(lista))"
   ]
  },
  {
   "cell_type": "code",
   "execution_count": null,
   "id": "71fcf4e8-2612-49ac-884e-2bb2fd4fbea8",
   "metadata": {},
   "outputs": [],
   "source": [
    "def remove_duplicates(lista):\n",
    "  noduplis=list(set(lista))\n",
    "  df=frame=pd.DataFrame(noduplis, columns=['elementos'])\n",
    "  return df"
   ]
  },
  {
   "cell_type": "code",
   "execution_count": null,
   "id": "5bc59b02-ff0a-4de3-864e-2c21ce5d8536",
   "metadata": {},
   "outputs": [],
   "source": [
    "def remove_duplicates(lista):\n",
    "  unicos = list(dict.fromkeys(lista))\n",
    "  return pd.DataFrame(unicos)"
   ]
  },
  {
   "cell_type": "markdown",
   "id": "211cff7b-d71d-4db8-bd16-71f09ca57399",
   "metadata": {},
   "source": [
    "## 07 - 1pt\n",
    "- Escribir un generador `frange` que simule el comportamiento de la función `arange` de NumPy\n",
    "- Esta función cada vez que se invoque debe devolver valores espaciados uniformemente a partir de un valor inicial. Se debe proveer a dicha función un valor inicial para la secuencia de números y un valor para el step\n",
    "- Debe soportar valores númericos en coma flotante\n",
    "- La función potencialmente se puede llamar un número infinito de veces\n",
    "- Usando plain Python, sin ninguna librería"
   ]
  },
  {
   "cell_type": "code",
   "execution_count": 12,
   "id": "19be50b6-7a52-4dd1-a081-2e483cb3bbf8",
   "metadata": {},
   "outputs": [
    {
     "name": "stdout",
     "output_type": "stream",
     "text": [
      "[10.6, 11.4, 12.200000000000001, 13.000000000000002, 13.800000000000002, 14.600000000000003, 15.400000000000004, 16.200000000000003, 17.000000000000004, 17.800000000000004]\n"
     ]
    }
   ],
   "source": [
    "import math\n",
    "\n",
    "init = 10.6\n",
    "step = 0.8\n",
    "g = frange(init, step)  # This calls your function frange\n",
    "\n",
    "iters = 10\n",
    "numbers = [next(g) for n in range(iters)]\n",
    "for i, n in enumerate(numbers):\n",
    "    assert(math.isclose(n, init + (step * i)))  # This will fail if the range is not properly created\n",
    "print(numbers)"
   ]
  },
  {
   "cell_type": "code",
   "execution_count": 11,
   "id": "9d395c62-a894-48ce-990b-cf60d34ec065",
   "metadata": {},
   "outputs": [],
   "source": [
    "# Your solution HERE !!!!\n",
    "def frange(init, step):\n",
    "    while True:\n",
    "        yield init\n",
    "        init += step"
   ]
  },
  {
   "cell_type": "markdown",
   "id": "ae093f1d-b4e5-4ac3-a0a8-c6aecb8a084d",
   "metadata": {
    "tags": []
   },
   "source": [
    "## 08\n",
    "- Crear una función que reciba una Serie de Pandas y devuelva esa misma serie, reemplazando los espacios en blanco por el carácter menos frecuente en dicha serie."
   ]
  },
  {
   "cell_type": "code",
   "execution_count": 18,
   "id": "02390a36-6e74-4e34-b46a-e1612771863e",
   "metadata": {},
   "outputs": [],
   "source": [
    "serie = pd.Series(list('bba cabc faabba aacbbfe'))\n",
    "expected_output = pd.Series(list('bbaecabcefaabbaeaacbbfe'))\n",
    "output = clean_whitespace_replace(serie)  # This calls your function clean_whitespace_replace\n",
    "assert(expected_output.equals(output))  # This will fail if result is not as expected"
   ]
  },
  {
   "cell_type": "code",
   "execution_count": 22,
   "id": "0472c9a4-ce23-42e2-9090-ee4695d6057a",
   "metadata": {},
   "outputs": [],
   "source": [
    "# Your solution HERE !!!!\n",
    "def clean_whitespace_replace(serie):\n",
    "    less_freq = serie.value_counts().idxmin()\n",
    "    serie[serie == ' '] = less_freq\n",
    "    return serie"
   ]
  },
  {
   "cell_type": "code",
   "execution_count": 21,
   "id": "d3742c03-d7d9-4918-b602-55129406f0e9",
   "metadata": {},
   "outputs": [],
   "source": [
    "from collections import Counter\n",
    "\n",
    "def clean_whitespace_replace (seri):\n",
    "  texto=''.join(seri.dropna().astype(str))\n",
    "  frecu=Counter(i for i in texto if i != '')\n",
    "  mefrecu=min(frecu,key= frecu.get)\n",
    "  seridif=seri.astype(str).apply(lambda s: s.replace(' ' ,mefrecu))\n",
    "  return seridif"
   ]
  },
  {
   "cell_type": "code",
   "execution_count": null,
   "id": "4171a0f3-ebc5-49b9-93ae-156623fe017c",
   "metadata": {},
   "outputs": [],
   "source": []
  }
 ],
 "metadata": {
  "kernelspec": {
   "display_name": "Python 3 (ipykernel)",
   "language": "python",
   "name": "python3"
  },
  "language_info": {
   "codemirror_mode": {
    "name": "ipython",
    "version": 3
   },
   "file_extension": ".py",
   "mimetype": "text/x-python",
   "name": "python",
   "nbconvert_exporter": "python",
   "pygments_lexer": "ipython3",
   "version": "3.11.13"
  }
 },
 "nbformat": 4,
 "nbformat_minor": 5
}
